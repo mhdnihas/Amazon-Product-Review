{
 "cells": [
  {
   "cell_type": "code",
   "execution_count": 62,
   "metadata": {
    "_cell_guid": "b1076dfc-b9ad-4769-8c92-a6c4dae69d19",
    "_uuid": "8f2839f25d086af736a60e9eeb907d3b93b6e0e5",
    "execution": {
     "iopub.execute_input": "2025-03-05T15:19:32.741405Z",
     "iopub.status.busy": "2025-03-05T15:19:32.740978Z",
     "iopub.status.idle": "2025-03-05T15:19:32.765336Z",
     "shell.execute_reply": "2025-03-05T15:19:32.764268Z",
     "shell.execute_reply.started": "2025-03-05T15:19:32.741368Z"
    },
    "trusted": true
   },
   "outputs": [
    {
     "name": "stdout",
     "output_type": "stream",
     "text": [
      "/kaggle/input/amazon-product-reviews/Reviews.csv\n"
     ]
    }
   ],
   "source": [
    "# This Python 3 environment comes with many helpful analytics libraries installed\n",
    "# It is defined by the kaggle/python Docker image: https://github.com/kaggle/docker-python\n",
    "# For example, here's several helpful packages to load\n",
    "\n",
    "import numpy as np # linear algebra\n",
    "import pandas as pd # data processing, CSV file I/O (e.g. pd.read_csv)\n",
    "\n",
    "# Input data files are available in the read-only \"../input/\" directory\n",
    "# For example, running this (by clicking run or pressing Shift+Enter) will list all files under the input directory\n",
    "\n",
    "import os\n",
    "for dirname, _, filenames in os.walk('/kaggle/input'):\n",
    "    for filename in filenames:\n",
    "        print(os.path.join(dirname, filename))\n",
    "\n",
    "# You can write up to 20GB to the current directory (/kaggle/working/) that gets preserved as output when you create a version using \"Save & Run All\" \n",
    "# You can also write temporary files to /kaggle/temp/, but they won't be saved outside of the current session"
   ]
  },
  {
   "cell_type": "code",
   "execution_count": 63,
   "metadata": {
    "execution": {
     "iopub.execute_input": "2025-03-05T15:19:33.670502Z",
     "iopub.status.busy": "2025-03-05T15:19:33.670096Z",
     "iopub.status.idle": "2025-03-05T15:19:33.675093Z",
     "shell.execute_reply": "2025-03-05T15:19:33.673713Z",
     "shell.execute_reply.started": "2025-03-05T15:19:33.670468Z"
    },
    "trusted": true
   },
   "outputs": [],
   "source": [
    "import matplotlib.pyplot as plt\n",
    "import seaborn as sns\n",
    "from sklearn.model_selection import train_test_split\n",
    "\n"
   ]
  },
  {
   "cell_type": "markdown",
   "metadata": {
    "execution": {
     "iopub.execute_input": "2025-03-05T10:05:41.716807Z",
     "iopub.status.busy": "2025-03-05T10:05:41.716484Z",
     "iopub.status.idle": "2025-03-05T10:05:41.721381Z",
     "shell.execute_reply": "2025-03-05T10:05:41.720162Z",
     "shell.execute_reply.started": "2025-03-05T10:05:41.716783Z"
    }
   },
   "source": [
    "# 1. Data Ingestion and Preprocessing:"
   ]
  },
  {
   "cell_type": "code",
   "execution_count": 64,
   "metadata": {
    "execution": {
     "iopub.execute_input": "2025-03-05T15:19:38.407973Z",
     "iopub.status.busy": "2025-03-05T15:19:38.407627Z",
     "iopub.status.idle": "2025-03-05T15:19:42.912723Z",
     "shell.execute_reply": "2025-03-05T15:19:42.911698Z",
     "shell.execute_reply.started": "2025-03-05T15:19:38.407945Z"
    },
    "trusted": true
   },
   "outputs": [],
   "source": [
    "df=pd.read_csv(\"/kaggle/input/amazon-product-reviews/Reviews.csv\")"
   ]
  },
  {
   "cell_type": "code",
   "execution_count": 65,
   "metadata": {
    "execution": {
     "iopub.execute_input": "2025-03-05T15:19:42.914409Z",
     "iopub.status.busy": "2025-03-05T15:19:42.914061Z",
     "iopub.status.idle": "2025-03-05T15:19:42.927646Z",
     "shell.execute_reply": "2025-03-05T15:19:42.926483Z",
     "shell.execute_reply.started": "2025-03-05T15:19:42.914381Z"
    },
    "trusted": true
   },
   "outputs": [
    {
     "data": {
      "text/html": [
       "<div>\n",
       "<style scoped>\n",
       "    .dataframe tbody tr th:only-of-type {\n",
       "        vertical-align: middle;\n",
       "    }\n",
       "\n",
       "    .dataframe tbody tr th {\n",
       "        vertical-align: top;\n",
       "    }\n",
       "\n",
       "    .dataframe thead th {\n",
       "        text-align: right;\n",
       "    }\n",
       "</style>\n",
       "<table border=\"1\" class=\"dataframe\">\n",
       "  <thead>\n",
       "    <tr style=\"text-align: right;\">\n",
       "      <th></th>\n",
       "      <th>Id</th>\n",
       "      <th>ProductId</th>\n",
       "      <th>UserId</th>\n",
       "      <th>ProfileName</th>\n",
       "      <th>HelpfulnessNumerator</th>\n",
       "      <th>HelpfulnessDenominator</th>\n",
       "      <th>Score</th>\n",
       "      <th>Time</th>\n",
       "      <th>Summary</th>\n",
       "      <th>Text</th>\n",
       "    </tr>\n",
       "  </thead>\n",
       "  <tbody>\n",
       "    <tr>\n",
       "      <th>0</th>\n",
       "      <td>1</td>\n",
       "      <td>B001E4KFG0</td>\n",
       "      <td>A3SGXH7AUHU8GW</td>\n",
       "      <td>delmartian</td>\n",
       "      <td>1</td>\n",
       "      <td>1</td>\n",
       "      <td>5</td>\n",
       "      <td>1303862400</td>\n",
       "      <td>Good Quality Dog Food</td>\n",
       "      <td>I have bought several of the Vitality canned d...</td>\n",
       "    </tr>\n",
       "    <tr>\n",
       "      <th>1</th>\n",
       "      <td>2</td>\n",
       "      <td>B00813GRG4</td>\n",
       "      <td>A1D87F6ZCVE5NK</td>\n",
       "      <td>dll pa</td>\n",
       "      <td>0</td>\n",
       "      <td>0</td>\n",
       "      <td>1</td>\n",
       "      <td>1346976000</td>\n",
       "      <td>Not as Advertised</td>\n",
       "      <td>Product arrived labeled as Jumbo Salted Peanut...</td>\n",
       "    </tr>\n",
       "    <tr>\n",
       "      <th>2</th>\n",
       "      <td>3</td>\n",
       "      <td>B000LQOCH0</td>\n",
       "      <td>ABXLMWJIXXAIN</td>\n",
       "      <td>Natalia Corres \"Natalia Corres\"</td>\n",
       "      <td>1</td>\n",
       "      <td>1</td>\n",
       "      <td>4</td>\n",
       "      <td>1219017600</td>\n",
       "      <td>\"Delight\" says it all</td>\n",
       "      <td>This is a confection that has been around a fe...</td>\n",
       "    </tr>\n",
       "    <tr>\n",
       "      <th>3</th>\n",
       "      <td>4</td>\n",
       "      <td>B000UA0QIQ</td>\n",
       "      <td>A395BORC6FGVXV</td>\n",
       "      <td>Karl</td>\n",
       "      <td>3</td>\n",
       "      <td>3</td>\n",
       "      <td>2</td>\n",
       "      <td>1307923200</td>\n",
       "      <td>Cough Medicine</td>\n",
       "      <td>If you are looking for the secret ingredient i...</td>\n",
       "    </tr>\n",
       "    <tr>\n",
       "      <th>4</th>\n",
       "      <td>5</td>\n",
       "      <td>B006K2ZZ7K</td>\n",
       "      <td>A1UQRSCLF8GW1T</td>\n",
       "      <td>Michael D. Bigham \"M. Wassir\"</td>\n",
       "      <td>0</td>\n",
       "      <td>0</td>\n",
       "      <td>5</td>\n",
       "      <td>1350777600</td>\n",
       "      <td>Great taffy</td>\n",
       "      <td>Great taffy at a great price.  There was a wid...</td>\n",
       "    </tr>\n",
       "  </tbody>\n",
       "</table>\n",
       "</div>"
      ],
      "text/plain": [
       "   Id   ProductId          UserId                      ProfileName  \\\n",
       "0   1  B001E4KFG0  A3SGXH7AUHU8GW                       delmartian   \n",
       "1   2  B00813GRG4  A1D87F6ZCVE5NK                           dll pa   \n",
       "2   3  B000LQOCH0   ABXLMWJIXXAIN  Natalia Corres \"Natalia Corres\"   \n",
       "3   4  B000UA0QIQ  A395BORC6FGVXV                             Karl   \n",
       "4   5  B006K2ZZ7K  A1UQRSCLF8GW1T    Michael D. Bigham \"M. Wassir\"   \n",
       "\n",
       "   HelpfulnessNumerator  HelpfulnessDenominator  Score        Time  \\\n",
       "0                     1                       1      5  1303862400   \n",
       "1                     0                       0      1  1346976000   \n",
       "2                     1                       1      4  1219017600   \n",
       "3                     3                       3      2  1307923200   \n",
       "4                     0                       0      5  1350777600   \n",
       "\n",
       "                 Summary                                               Text  \n",
       "0  Good Quality Dog Food  I have bought several of the Vitality canned d...  \n",
       "1      Not as Advertised  Product arrived labeled as Jumbo Salted Peanut...  \n",
       "2  \"Delight\" says it all  This is a confection that has been around a fe...  \n",
       "3         Cough Medicine  If you are looking for the secret ingredient i...  \n",
       "4            Great taffy  Great taffy at a great price.  There was a wid...  "
      ]
     },
     "execution_count": 65,
     "metadata": {},
     "output_type": "execute_result"
    }
   ],
   "source": [
    "df.head()"
   ]
  },
  {
   "cell_type": "code",
   "execution_count": 66,
   "metadata": {
    "execution": {
     "iopub.execute_input": "2025-03-05T15:19:47.841580Z",
     "iopub.status.busy": "2025-03-05T15:19:47.841142Z",
     "iopub.status.idle": "2025-03-05T15:19:48.034877Z",
     "shell.execute_reply": "2025-03-05T15:19:48.033608Z",
     "shell.execute_reply.started": "2025-03-05T15:19:47.841549Z"
    },
    "trusted": true
   },
   "outputs": [
    {
     "name": "stdout",
     "output_type": "stream",
     "text": [
      "<class 'pandas.core.frame.DataFrame'>\n",
      "RangeIndex: 568454 entries, 0 to 568453\n",
      "Data columns (total 10 columns):\n",
      " #   Column                  Non-Null Count   Dtype \n",
      "---  ------                  --------------   ----- \n",
      " 0   Id                      568454 non-null  int64 \n",
      " 1   ProductId               568454 non-null  object\n",
      " 2   UserId                  568454 non-null  object\n",
      " 3   ProfileName             568428 non-null  object\n",
      " 4   HelpfulnessNumerator    568454 non-null  int64 \n",
      " 5   HelpfulnessDenominator  568454 non-null  int64 \n",
      " 6   Score                   568454 non-null  int64 \n",
      " 7   Time                    568454 non-null  int64 \n",
      " 8   Summary                 568427 non-null  object\n",
      " 9   Text                    568454 non-null  object\n",
      "dtypes: int64(5), object(5)\n",
      "memory usage: 43.4+ MB\n"
     ]
    }
   ],
   "source": [
    "df.info()"
   ]
  },
  {
   "cell_type": "code",
   "execution_count": 67,
   "metadata": {
    "execution": {
     "iopub.execute_input": "2025-03-05T15:19:51.851076Z",
     "iopub.status.busy": "2025-03-05T15:19:51.850709Z",
     "iopub.status.idle": "2025-03-05T15:19:51.857648Z",
     "shell.execute_reply": "2025-03-05T15:19:51.856452Z",
     "shell.execute_reply.started": "2025-03-05T15:19:51.851042Z"
    },
    "trusted": true
   },
   "outputs": [
    {
     "data": {
      "text/plain": [
       "(568454, 10)"
      ]
     },
     "execution_count": 67,
     "metadata": {},
     "output_type": "execute_result"
    }
   ],
   "source": [
    "df.shape"
   ]
  },
  {
   "cell_type": "markdown",
   "metadata": {},
   "source": [
    "#### Removing unneccessary Columns"
   ]
  },
  {
   "cell_type": "code",
   "execution_count": 68,
   "metadata": {
    "execution": {
     "iopub.execute_input": "2025-03-05T15:20:34.131382Z",
     "iopub.status.busy": "2025-03-05T15:20:34.130948Z",
     "iopub.status.idle": "2025-03-05T15:20:34.150390Z",
     "shell.execute_reply": "2025-03-05T15:20:34.149033Z",
     "shell.execute_reply.started": "2025-03-05T15:20:34.131323Z"
    },
    "trusted": true
   },
   "outputs": [],
   "source": [
    "df.drop(['Id','ProductId','UserId','ProfileName','HelpfulnessNumerator','HelpfulnessDenominator','Time','Summary'],axis=1,inplace=True)"
   ]
  },
  {
   "cell_type": "code",
   "execution_count": 69,
   "metadata": {
    "execution": {
     "iopub.execute_input": "2025-03-05T15:20:36.932751Z",
     "iopub.status.busy": "2025-03-05T15:20:36.932425Z",
     "iopub.status.idle": "2025-03-05T15:20:36.941475Z",
     "shell.execute_reply": "2025-03-05T15:20:36.940280Z",
     "shell.execute_reply.started": "2025-03-05T15:20:36.932724Z"
    },
    "trusted": true
   },
   "outputs": [
    {
     "data": {
      "text/html": [
       "<div>\n",
       "<style scoped>\n",
       "    .dataframe tbody tr th:only-of-type {\n",
       "        vertical-align: middle;\n",
       "    }\n",
       "\n",
       "    .dataframe tbody tr th {\n",
       "        vertical-align: top;\n",
       "    }\n",
       "\n",
       "    .dataframe thead th {\n",
       "        text-align: right;\n",
       "    }\n",
       "</style>\n",
       "<table border=\"1\" class=\"dataframe\">\n",
       "  <thead>\n",
       "    <tr style=\"text-align: right;\">\n",
       "      <th></th>\n",
       "      <th>Score</th>\n",
       "      <th>Text</th>\n",
       "    </tr>\n",
       "  </thead>\n",
       "  <tbody>\n",
       "    <tr>\n",
       "      <th>0</th>\n",
       "      <td>5</td>\n",
       "      <td>I have bought several of the Vitality canned d...</td>\n",
       "    </tr>\n",
       "    <tr>\n",
       "      <th>1</th>\n",
       "      <td>1</td>\n",
       "      <td>Product arrived labeled as Jumbo Salted Peanut...</td>\n",
       "    </tr>\n",
       "    <tr>\n",
       "      <th>2</th>\n",
       "      <td>4</td>\n",
       "      <td>This is a confection that has been around a fe...</td>\n",
       "    </tr>\n",
       "    <tr>\n",
       "      <th>3</th>\n",
       "      <td>2</td>\n",
       "      <td>If you are looking for the secret ingredient i...</td>\n",
       "    </tr>\n",
       "    <tr>\n",
       "      <th>4</th>\n",
       "      <td>5</td>\n",
       "      <td>Great taffy at a great price.  There was a wid...</td>\n",
       "    </tr>\n",
       "  </tbody>\n",
       "</table>\n",
       "</div>"
      ],
      "text/plain": [
       "   Score                                               Text\n",
       "0      5  I have bought several of the Vitality canned d...\n",
       "1      1  Product arrived labeled as Jumbo Salted Peanut...\n",
       "2      4  This is a confection that has been around a fe...\n",
       "3      2  If you are looking for the secret ingredient i...\n",
       "4      5  Great taffy at a great price.  There was a wid..."
      ]
     },
     "execution_count": 69,
     "metadata": {},
     "output_type": "execute_result"
    }
   ],
   "source": [
    "df.head()"
   ]
  },
  {
   "cell_type": "code",
   "execution_count": 70,
   "metadata": {
    "execution": {
     "iopub.execute_input": "2025-03-05T15:20:41.764807Z",
     "iopub.status.busy": "2025-03-05T15:20:41.764408Z",
     "iopub.status.idle": "2025-03-05T15:20:41.840729Z",
     "shell.execute_reply": "2025-03-05T15:20:41.839412Z",
     "shell.execute_reply.started": "2025-03-05T15:20:41.764776Z"
    },
    "trusted": true
   },
   "outputs": [
    {
     "data": {
      "text/plain": [
       "Score    0\n",
       "Text     0\n",
       "dtype: int64"
      ]
     },
     "execution_count": 70,
     "metadata": {},
     "output_type": "execute_result"
    }
   ],
   "source": [
    "## Checking Missing Values\n",
    "df.isna().sum()"
   ]
  },
  {
   "cell_type": "code",
   "execution_count": 11,
   "metadata": {
    "execution": {
     "iopub.execute_input": "2025-03-05T14:56:52.164457Z",
     "iopub.status.busy": "2025-03-05T14:56:52.164192Z",
     "iopub.status.idle": "2025-03-05T14:56:52.870810Z",
     "shell.execute_reply": "2025-03-05T14:56:52.869855Z",
     "shell.execute_reply.started": "2025-03-05T14:56:52.164425Z"
    },
    "trusted": true
   },
   "outputs": [
    {
     "name": "stdout",
     "output_type": "stream",
     "text": [
      "Number of Duplicate in the dataset: 174779\n"
     ]
    }
   ],
   "source": [
    "\n",
    "print('Number of Duplicate in the dataset:',df.duplicated().sum())"
   ]
  },
  {
   "cell_type": "markdown",
   "metadata": {},
   "source": [
    "#### Here no **missing** values but  have **duplicate** values, need to be removed"
   ]
  },
  {
   "cell_type": "code",
   "execution_count": 71,
   "metadata": {
    "execution": {
     "iopub.execute_input": "2025-03-05T15:20:52.907007Z",
     "iopub.status.busy": "2025-03-05T15:20:52.906625Z",
     "iopub.status.idle": "2025-03-05T15:20:53.639127Z",
     "shell.execute_reply": "2025-03-05T15:20:53.638100Z",
     "shell.execute_reply.started": "2025-03-05T15:20:52.906978Z"
    },
    "trusted": true
   },
   "outputs": [],
   "source": [
    "df.drop_duplicates(inplace=True)"
   ]
  },
  {
   "cell_type": "code",
   "execution_count": 72,
   "metadata": {
    "execution": {
     "iopub.execute_input": "2025-03-05T15:20:53.641094Z",
     "iopub.status.busy": "2025-03-05T15:20:53.640721Z",
     "iopub.status.idle": "2025-03-05T15:20:54.198854Z",
     "shell.execute_reply": "2025-03-05T15:20:54.197625Z",
     "shell.execute_reply.started": "2025-03-05T15:20:53.641061Z"
    },
    "trusted": true
   },
   "outputs": [
    {
     "data": {
      "text/plain": [
       "0"
      ]
     },
     "execution_count": 72,
     "metadata": {},
     "output_type": "execute_result"
    }
   ],
   "source": [
    "df.duplicated().sum()"
   ]
  },
  {
   "cell_type": "code",
   "execution_count": 73,
   "metadata": {
    "execution": {
     "iopub.execute_input": "2025-03-05T15:20:54.200620Z",
     "iopub.status.busy": "2025-03-05T15:20:54.200250Z",
     "iopub.status.idle": "2025-03-05T15:20:54.206753Z",
     "shell.execute_reply": "2025-03-05T15:20:54.205570Z",
     "shell.execute_reply.started": "2025-03-05T15:20:54.200591Z"
    },
    "trusted": true
   },
   "outputs": [
    {
     "data": {
      "text/plain": [
       "(393675, 2)"
      ]
     },
     "execution_count": 73,
     "metadata": {},
     "output_type": "execute_result"
    }
   ],
   "source": [
    "df.shape"
   ]
  },
  {
   "cell_type": "markdown",
   "metadata": {},
   "source": [
    "### EDA ( Exploratery Data Analysis)"
   ]
  },
  {
   "cell_type": "code",
   "execution_count": 74,
   "metadata": {
    "execution": {
     "iopub.execute_input": "2025-03-05T15:20:59.792351Z",
     "iopub.status.busy": "2025-03-05T15:20:59.791909Z",
     "iopub.status.idle": "2025-03-05T15:20:59.801913Z",
     "shell.execute_reply": "2025-03-05T15:20:59.800805Z",
     "shell.execute_reply.started": "2025-03-05T15:20:59.792311Z"
    },
    "trusted": true
   },
   "outputs": [
    {
     "data": {
      "text/plain": [
       "array([5, 1, 4, 2, 3])"
      ]
     },
     "execution_count": 74,
     "metadata": {},
     "output_type": "execute_result"
    }
   ],
   "source": [
    "df['Score'].unique()"
   ]
  },
  {
   "cell_type": "code",
   "execution_count": 16,
   "metadata": {
    "execution": {
     "iopub.execute_input": "2025-03-05T14:56:54.159551Z",
     "iopub.status.busy": "2025-03-05T14:56:54.159248Z",
     "iopub.status.idle": "2025-03-05T14:56:54.433263Z",
     "shell.execute_reply": "2025-03-05T14:56:54.432267Z",
     "shell.execute_reply.started": "2025-03-05T14:56:54.159528Z"
    },
    "trusted": true
   },
   "outputs": [
    {
     "data": {
      "text/plain": [
       "<Axes: xlabel='Score', ylabel='count'>"
      ]
     },
     "execution_count": 16,
     "metadata": {},
     "output_type": "execute_result"
    },
    {
     "data": {
      "image/png": "[encoded data removed]",
      "text/plain": [
       "<Figure size 640x480 with 1 Axes>"
      ]
     },
     "metadata": {},
     "output_type": "display_data"
    }
   ],
   "source": [
    "sns.countplot(x=df['Score'])"
   ]
  },
  {
   "cell_type": "markdown",
   "metadata": {},
   "source": [
    "#### Here We can Majority class is 5 , imbalanced classes in the dataset"
   ]
  },
  {
   "cell_type": "code",
   "execution_count": 17,
   "metadata": {
    "execution": {
     "iopub.execute_input": "2025-03-05T14:56:54.434633Z",
     "iopub.status.busy": "2025-03-05T14:56:54.434276Z",
     "iopub.status.idle": "2025-03-05T14:56:54.445617Z",
     "shell.execute_reply": "2025-03-05T14:56:54.444751Z",
     "shell.execute_reply.started": "2025-03-05T14:56:54.434601Z"
    },
    "trusted": true
   },
   "outputs": [
    {
     "data": {
      "text/plain": [
       "Score\n",
       "5    250745\n",
       "4     56074\n",
       "1     36280\n",
       "3     29772\n",
       "2     20804\n",
       "Name: count, dtype: int64"
      ]
     },
     "execution_count": 17,
     "metadata": {},
     "output_type": "execute_result"
    }
   ],
   "source": [
    "df['Score'].value_counts()"
   ]
  },
  {
   "cell_type": "code",
   "execution_count": 18,
   "metadata": {
    "execution": {
     "iopub.execute_input": "2025-03-05T14:56:58.720061Z",
     "iopub.status.busy": "2025-03-05T14:56:58.719740Z",
     "iopub.status.idle": "2025-03-05T14:56:58.729971Z",
     "shell.execute_reply": "2025-03-05T14:56:58.729198Z",
     "shell.execute_reply.started": "2025-03-05T14:56:58.720036Z"
    },
    "trusted": true
   },
   "outputs": [
    {
     "data": {
      "text/plain": [
       "Score\n",
       "5    63.693402\n",
       "4    14.243729\n",
       "1     9.215724\n",
       "3     7.562583\n",
       "2     5.284562\n",
       "Name: count, dtype: float64"
      ]
     },
     "execution_count": 18,
     "metadata": {},
     "output_type": "execute_result"
    }
   ],
   "source": [
    "df['Score'].value_counts()/len(df)*100"
   ]
  },
  {
   "cell_type": "markdown",
   "metadata": {},
   "source": [
    "### observation \n",
    "#### 63% value scores are 5 in the dataset, so high volume of product reviews are positve"
   ]
  },
  {
   "cell_type": "markdown",
   "metadata": {},
   "source": [
    "### Taking Samples from each scores "
   ]
  },
  {
   "cell_type": "code",
   "execution_count": 93,
   "metadata": {
    "execution": {
     "iopub.execute_input": "2025-03-05T15:29:29.394669Z",
     "iopub.status.busy": "2025-03-05T15:29:29.394310Z",
     "iopub.status.idle": "2025-03-05T15:29:29.512679Z",
     "shell.execute_reply": "2025-03-05T15:29:29.511328Z",
     "shell.execute_reply.started": "2025-03-05T15:29:29.394643Z"
    },
    "trusted": true
   },
   "outputs": [
    {
     "name": "stderr",
     "output_type": "stream",
     "text": [
      "<ipython-input-93-0faaced037b7>:1: DeprecationWarning: DataFrameGroupBy.apply operated on the grouping columns. This behavior is deprecated, and in a future version of pandas the grouping columns will be excluded from the operation. Either pass `include_groups=False` to exclude the groupings or explicitly select the grouping columns after groupby to silence this warning.\n",
      "  df1=df.groupby('Score').apply(lambda x: x.sample(20800)).reset_index(drop=True)\n"
     ]
    }
   ],
   "source": [
    "df1=df.groupby('Score').apply(lambda x: x.sample(20800)).reset_index(drop=True)"
   ]
  },
  {
   "cell_type": "markdown",
   "metadata": {},
   "source": [
    "#### By taking **20800** samples from each **score** , the data become balanced and we have 104000 raw data"
   ]
  },
  {
   "cell_type": "code",
   "execution_count": 75,
   "metadata": {
    "execution": {
     "iopub.execute_input": "2025-03-05T15:21:42.702495Z",
     "iopub.status.busy": "2025-03-05T15:21:42.702002Z",
     "iopub.status.idle": "2025-03-05T15:21:42.709705Z",
     "shell.execute_reply": "2025-03-05T15:21:42.708206Z",
     "shell.execute_reply.started": "2025-03-05T15:21:42.702450Z"
    },
    "trusted": true
   },
   "outputs": [
    {
     "data": {
      "text/plain": [
       "(104000, 3)"
      ]
     },
     "execution_count": 75,
     "metadata": {},
     "output_type": "execute_result"
    }
   ],
   "source": [
    "df1.shape"
   ]
  },
  {
   "cell_type": "code",
   "execution_count": 21,
   "metadata": {
    "execution": {
     "iopub.execute_input": "2025-03-05T14:57:08.176842Z",
     "iopub.status.busy": "2025-03-05T14:57:08.176289Z",
     "iopub.status.idle": "2025-03-05T14:57:08.186900Z",
     "shell.execute_reply": "2025-03-05T14:57:08.185672Z",
     "shell.execute_reply.started": "2025-03-05T14:57:08.176787Z"
    },
    "trusted": true
   },
   "outputs": [
    {
     "data": {
      "text/plain": [
       "Score\n",
       "1    20800\n",
       "2    20800\n",
       "3    20800\n",
       "4    20800\n",
       "5    20800\n",
       "Name: count, dtype: int64"
      ]
     },
     "execution_count": 21,
     "metadata": {},
     "output_type": "execute_result"
    }
   ],
   "source": [
    "df1['Score'].value_counts()"
   ]
  },
  {
   "cell_type": "code",
   "execution_count": 22,
   "metadata": {
    "execution": {
     "iopub.execute_input": "2025-03-05T14:57:08.696949Z",
     "iopub.status.busy": "2025-03-05T14:57:08.696511Z",
     "iopub.status.idle": "2025-03-05T14:57:08.876116Z",
     "shell.execute_reply": "2025-03-05T14:57:08.875014Z",
     "shell.execute_reply.started": "2025-03-05T14:57:08.696911Z"
    },
    "trusted": true
   },
   "outputs": [
    {
     "data": {
      "text/plain": [
       "<Axes: xlabel='Score', ylabel='count'>"
      ]
     },
     "execution_count": 22,
     "metadata": {},
     "output_type": "execute_result"
    },
    {
     "data": {
      "image/png": "[encoded data removed]",
      "text/plain": [
       "<Figure size 640x480 with 1 Axes>"
      ]
     },
     "metadata": {},
     "output_type": "display_data"
    }
   ],
   "source": [
    "sns.countplot(x=df1['Score'])"
   ]
  },
  {
   "cell_type": "markdown",
   "metadata": {},
   "source": [
    "##### As shown,```Score``` Column is balanced and each value have the same distribution so the model won't be biased to specific value."
   ]
  },
  {
   "cell_type": "markdown",
   "metadata": {},
   "source": [
    "### Text Preprocessing"
   ]
  },
  {
   "cell_type": "code",
   "execution_count": 76,
   "metadata": {
    "execution": {
     "iopub.execute_input": "2025-03-05T15:21:54.649942Z",
     "iopub.status.busy": "2025-03-05T15:21:54.649590Z",
     "iopub.status.idle": "2025-03-05T15:21:54.654399Z",
     "shell.execute_reply": "2025-03-05T15:21:54.653187Z",
     "shell.execute_reply.started": "2025-03-05T15:21:54.649909Z"
    },
    "trusted": true
   },
   "outputs": [],
   "source": [
    "import string\n",
    "from nltk.tokenize import word_tokenize\n",
    "from nltk.corpus import stopwords \n",
    "from nltk.stem import WordNetLemmatizer,PorterStemmer\n"
   ]
  },
  {
   "cell_type": "code",
   "execution_count": 77,
   "metadata": {
    "execution": {
     "iopub.execute_input": "2025-03-05T15:22:01.456104Z",
     "iopub.status.busy": "2025-03-05T15:22:01.455766Z",
     "iopub.status.idle": "2025-03-05T15:22:01.464592Z",
     "shell.execute_reply": "2025-03-05T15:22:01.463471Z",
     "shell.execute_reply.started": "2025-03-05T15:22:01.456076Z"
    },
    "trusted": true
   },
   "outputs": [
    {
     "name": "stdout",
     "output_type": "stream",
     "text": [
      "[nltk_data] Downloading package stopwords to /usr/share/nltk_data...\n",
      "[nltk_data]   Package stopwords is already up-to-date!\n"
     ]
    },
    {
     "data": {
      "text/plain": [
       "True"
      ]
     },
     "execution_count": 77,
     "metadata": {},
     "output_type": "execute_result"
    }
   ],
   "source": [
    "import nltk \n",
    "nltk.download('stopwords')"
   ]
  },
  {
   "cell_type": "code",
   "execution_count": 78,
   "metadata": {
    "execution": {
     "iopub.execute_input": "2025-03-05T15:22:07.432808Z",
     "iopub.status.busy": "2025-03-05T15:22:07.432498Z",
     "iopub.status.idle": "2025-03-05T15:22:07.437824Z",
     "shell.execute_reply": "2025-03-05T15:22:07.436762Z",
     "shell.execute_reply.started": "2025-03-05T15:22:07.432784Z"
    },
    "trusted": true
   },
   "outputs": [],
   "source": [
    "stop_words=set(stopwords.words('english'))"
   ]
  },
  {
   "cell_type": "code",
   "execution_count": 26,
   "metadata": {
    "execution": {
     "iopub.execute_input": "2025-03-05T11:53:18.183118Z",
     "iopub.status.busy": "2025-03-05T11:53:18.182745Z",
     "iopub.status.idle": "2025-03-05T11:53:18.204044Z",
     "shell.execute_reply": "2025-03-05T11:53:18.202818Z",
     "shell.execute_reply.started": "2025-03-05T11:53:18.183088Z"
    },
    "trusted": true
   },
   "outputs": [
    {
     "data": {
      "text/plain": [
       "{'a',\n",
       " 'about',\n",
       " 'above',\n",
       " 'after',\n",
       " 'again',\n",
       " 'against',\n",
       " 'ain',\n",
       " 'all',\n",
       " 'am',\n",
       " 'an',\n",
       " 'and',\n",
       " 'any',\n",
       " 'are',\n",
       " 'aren',\n",
       " \"aren't\",\n",
       " 'as',\n",
       " 'at',\n",
       " 'be',\n",
       " 'because',\n",
       " 'been',\n",
       " 'before',\n",
       " 'being',\n",
       " 'below',\n",
       " 'between',\n",
       " 'both',\n",
       " 'but',\n",
       " 'by',\n",
       " 'can',\n",
       " 'couldn',\n",
       " \"couldn't\",\n",
       " 'd',\n",
       " 'did',\n",
       " 'didn',\n",
       " \"didn't\",\n",
       " 'do',\n",
       " 'does',\n",
       " 'doesn',\n",
       " \"doesn't\",\n",
       " 'doing',\n",
       " 'don',\n",
       " \"don't\",\n",
       " 'down',\n",
       " 'during',\n",
       " 'each',\n",
       " 'few',\n",
       " 'for',\n",
       " 'from',\n",
       " 'further',\n",
       " 'had',\n",
       " 'hadn',\n",
       " \"hadn't\",\n",
       " 'has',\n",
       " 'hasn',\n",
       " \"hasn't\",\n",
       " 'have',\n",
       " 'haven',\n",
       " \"haven't\",\n",
       " 'having',\n",
       " 'he',\n",
       " \"he'd\",\n",
       " \"he'll\",\n",
       " \"he's\",\n",
       " 'her',\n",
       " 'here',\n",
       " 'hers',\n",
       " 'herself',\n",
       " 'him',\n",
       " 'himself',\n",
       " 'his',\n",
       " 'how',\n",
       " 'i',\n",
       " \"i'd\",\n",
       " \"i'll\",\n",
       " \"i'm\",\n",
       " \"i've\",\n",
       " 'if',\n",
       " 'in',\n",
       " 'into',\n",
       " 'is',\n",
       " 'isn',\n",
       " \"isn't\",\n",
       " 'it',\n",
       " \"it'd\",\n",
       " \"it'll\",\n",
       " \"it's\",\n",
       " 'its',\n",
       " 'itself',\n",
       " 'just',\n",
       " 'll',\n",
       " 'm',\n",
       " 'ma',\n",
       " 'me',\n",
       " 'mightn',\n",
       " \"mightn't\",\n",
       " 'more',\n",
       " 'most',\n",
       " 'mustn',\n",
       " \"mustn't\",\n",
       " 'my',\n",
       " 'myself',\n",
       " 'needn',\n",
       " \"needn't\",\n",
       " 'no',\n",
       " 'nor',\n",
       " 'not',\n",
       " 'now',\n",
       " 'o',\n",
       " 'of',\n",
       " 'off',\n",
       " 'on',\n",
       " 'once',\n",
       " 'only',\n",
       " 'or',\n",
       " 'other',\n",
       " 'our',\n",
       " 'ours',\n",
       " 'ourselves',\n",
       " 'out',\n",
       " 'over',\n",
       " 'own',\n",
       " 're',\n",
       " 's',\n",
       " 'same',\n",
       " 'shan',\n",
       " \"shan't\",\n",
       " 'she',\n",
       " \"she'd\",\n",
       " \"she'll\",\n",
       " \"she's\",\n",
       " 'should',\n",
       " \"should've\",\n",
       " 'shouldn',\n",
       " \"shouldn't\",\n",
       " 'so',\n",
       " 'some',\n",
       " 'such',\n",
       " 't',\n",
       " 'than',\n",
       " 'that',\n",
       " \"that'll\",\n",
       " 'the',\n",
       " 'their',\n",
       " 'theirs',\n",
       " 'them',\n",
       " 'themselves',\n",
       " 'then',\n",
       " 'there',\n",
       " 'these',\n",
       " 'they',\n",
       " \"they'd\",\n",
       " \"they'll\",\n",
       " \"they're\",\n",
       " \"they've\",\n",
       " 'this',\n",
       " 'those',\n",
       " 'through',\n",
       " 'to',\n",
       " 'too',\n",
       " 'under',\n",
       " 'until',\n",
       " 'up',\n",
       " 've',\n",
       " 'very',\n",
       " 'was',\n",
       " 'wasn',\n",
       " \"wasn't\",\n",
       " 'we',\n",
       " \"we'd\",\n",
       " \"we'll\",\n",
       " \"we're\",\n",
       " \"we've\",\n",
       " 'were',\n",
       " 'weren',\n",
       " \"weren't\",\n",
       " 'what',\n",
       " 'when',\n",
       " 'where',\n",
       " 'which',\n",
       " 'while',\n",
       " 'who',\n",
       " 'whom',\n",
       " 'why',\n",
       " 'will',\n",
       " 'with',\n",
       " 'won',\n",
       " \"won't\",\n",
       " 'wouldn',\n",
       " \"wouldn't\",\n",
       " 'y',\n",
       " 'you',\n",
       " \"you'd\",\n",
       " \"you'll\",\n",
       " \"you're\",\n",
       " \"you've\",\n",
       " 'your',\n",
       " 'yours',\n",
       " 'yourself',\n",
       " 'yourselves'}"
      ]
     },
     "execution_count": 26,
     "metadata": {},
     "output_type": "execute_result"
    }
   ],
   "source": [
    "stop_words"
   ]
  },
  {
   "cell_type": "code",
   "execution_count": 79,
   "metadata": {
    "execution": {
     "iopub.execute_input": "2025-03-05T15:22:13.622749Z",
     "iopub.status.busy": "2025-03-05T15:22:13.622372Z",
     "iopub.status.idle": "2025-03-05T15:22:13.627830Z",
     "shell.execute_reply": "2025-03-05T15:22:13.626690Z",
     "shell.execute_reply.started": "2025-03-05T15:22:13.622718Z"
    },
    "trusted": true
   },
   "outputs": [],
   "source": [
    "stemming=PorterStemmer()"
   ]
  },
  {
   "cell_type": "code",
   "execution_count": 80,
   "metadata": {
    "execution": {
     "iopub.execute_input": "2025-03-05T15:22:15.007141Z",
     "iopub.status.busy": "2025-03-05T15:22:15.006677Z",
     "iopub.status.idle": "2025-03-05T15:22:15.015378Z",
     "shell.execute_reply": "2025-03-05T15:22:15.013661Z",
     "shell.execute_reply.started": "2025-03-05T15:22:15.007094Z"
    },
    "trusted": true
   },
   "outputs": [],
   "source": [
    "def preprocess_text(text):\n",
    "    # convert text into lower\n",
    "    text=text.lower()\n",
    "\n",
    "    # make tokens ( words)\n",
    "    tokens=word_tokenize(text)\n",
    "\n",
    "    # Remove punctuations (like: , ? , etc)\n",
    "    tokens=[word for word in tokens if word not in string.punctuation]\n",
    "\n",
    "    # Remove stopwords ( like : is , am , for ,etc\n",
    "    tokens =[word for word in tokens if word not in stop_words]\n",
    "\n",
    "    # Remove numbers\n",
    "    tokens=[word for word in tokens if not word.isdigit()]\n",
    "\n",
    "    # apply stemming\n",
    "    tokens=[stemming.stem(word) for word in tokens]\n",
    "\n",
    "    return ' '.join(tokens)\n",
    "    "
   ]
  },
  {
   "cell_type": "code",
   "execution_count": 94,
   "metadata": {
    "execution": {
     "iopub.execute_input": "2025-03-05T15:29:46.216255Z",
     "iopub.status.busy": "2025-03-05T15:29:46.215881Z",
     "iopub.status.idle": "2025-03-05T15:32:36.610995Z",
     "shell.execute_reply": "2025-03-05T15:32:36.609588Z",
     "shell.execute_reply.started": "2025-03-05T15:29:46.216218Z"
    },
    "trusted": true
   },
   "outputs": [],
   "source": [
    "df1['cleaned_text']=df1['Text'].apply(preprocess_text)"
   ]
  },
  {
   "cell_type": "code",
   "execution_count": 95,
   "metadata": {
    "execution": {
     "iopub.execute_input": "2025-03-05T15:32:36.612799Z",
     "iopub.status.busy": "2025-03-05T15:32:36.612408Z",
     "iopub.status.idle": "2025-03-05T15:32:38.457413Z",
     "shell.execute_reply": "2025-03-05T15:32:38.456300Z",
     "shell.execute_reply.started": "2025-03-05T15:32:36.612768Z"
    },
    "trusted": true
   },
   "outputs": [],
   "source": [
    "# save the cleaned text\n",
    "df1.to_csv('df1.csv')"
   ]
  },
  {
   "cell_type": "code",
   "execution_count": 96,
   "metadata": {
    "execution": {
     "iopub.execute_input": "2025-03-05T15:33:20.444564Z",
     "iopub.status.busy": "2025-03-05T15:33:20.444141Z",
     "iopub.status.idle": "2025-03-05T15:33:21.516842Z",
     "shell.execute_reply": "2025-03-05T15:33:21.515819Z",
     "shell.execute_reply.started": "2025-03-05T15:33:20.444534Z"
    },
    "trusted": true
   },
   "outputs": [],
   "source": [
    "df2=pd.read_csv('/kaggle/working/df1.csv')"
   ]
  },
  {
   "cell_type": "code",
   "execution_count": 97,
   "metadata": {
    "execution": {
     "iopub.execute_input": "2025-03-05T15:33:26.710207Z",
     "iopub.status.busy": "2025-03-05T15:33:26.709856Z",
     "iopub.status.idle": "2025-03-05T15:33:26.719058Z",
     "shell.execute_reply": "2025-03-05T15:33:26.718014Z",
     "shell.execute_reply.started": "2025-03-05T15:33:26.710180Z"
    },
    "trusted": true
   },
   "outputs": [
    {
     "data": {
      "text/plain": [
       "Score\n",
       "1    20800\n",
       "2    20800\n",
       "3    20800\n",
       "4    20800\n",
       "5    20800\n",
       "Name: count, dtype: int64"
      ]
     },
     "execution_count": 97,
     "metadata": {},
     "output_type": "execute_result"
    }
   ],
   "source": [
    "df2['Score'].value_counts()"
   ]
  },
  {
   "cell_type": "code",
   "execution_count": 98,
   "metadata": {
    "execution": {
     "iopub.execute_input": "2025-03-05T15:33:32.488104Z",
     "iopub.status.busy": "2025-03-05T15:33:32.487780Z",
     "iopub.status.idle": "2025-03-05T15:33:32.498449Z",
     "shell.execute_reply": "2025-03-05T15:33:32.497314Z",
     "shell.execute_reply.started": "2025-03-05T15:33:32.488078Z"
    },
    "trusted": true
   },
   "outputs": [
    {
     "data": {
      "text/html": [
       "<div>\n",
       "<style scoped>\n",
       "    .dataframe tbody tr th:only-of-type {\n",
       "        vertical-align: middle;\n",
       "    }\n",
       "\n",
       "    .dataframe tbody tr th {\n",
       "        vertical-align: top;\n",
       "    }\n",
       "\n",
       "    .dataframe thead th {\n",
       "        text-align: right;\n",
       "    }\n",
       "</style>\n",
       "<table border=\"1\" class=\"dataframe\">\n",
       "  <thead>\n",
       "    <tr style=\"text-align: right;\">\n",
       "      <th></th>\n",
       "      <th>Unnamed: 0</th>\n",
       "      <th>Score</th>\n",
       "      <th>Text</th>\n",
       "      <th>cleaned_text</th>\n",
       "    </tr>\n",
       "  </thead>\n",
       "  <tbody>\n",
       "    <tr>\n",
       "      <th>0</th>\n",
       "      <td>0</td>\n",
       "      <td>1</td>\n",
       "      <td>It has a sweet aftertaste that I just can't to...</td>\n",
       "      <td>sweet aftertast ca n't toler made press tri fi...</td>\n",
       "    </tr>\n",
       "    <tr>\n",
       "      <th>1</th>\n",
       "      <td>1</td>\n",
       "      <td>1</td>\n",
       "      <td>While the item is decent looking and holds the...</td>\n",
       "      <td>item decent look hold brewer fine close well p...</td>\n",
       "    </tr>\n",
       "    <tr>\n",
       "      <th>2</th>\n",
       "      <td>2</td>\n",
       "      <td>1</td>\n",
       "      <td>ive been reading about a salmonella recall wit...</td>\n",
       "      <td>ive read salmonella recal product dog complet ...</td>\n",
       "    </tr>\n",
       "    <tr>\n",
       "      <th>3</th>\n",
       "      <td>3</td>\n",
       "      <td>1</td>\n",
       "      <td>I bought these after hearing all of the raves ...</td>\n",
       "      <td>bought hear rave arriv look like worm water ba...</td>\n",
       "    </tr>\n",
       "    <tr>\n",
       "      <th>4</th>\n",
       "      <td>4</td>\n",
       "      <td>1</td>\n",
       "      <td>The cans arrived all banged up.  I will never ...</td>\n",
       "      <td>can arriv bang never order compani</td>\n",
       "    </tr>\n",
       "  </tbody>\n",
       "</table>\n",
       "</div>"
      ],
      "text/plain": [
       "   Unnamed: 0  Score                                               Text  \\\n",
       "0           0      1  It has a sweet aftertaste that I just can't to...   \n",
       "1           1      1  While the item is decent looking and holds the...   \n",
       "2           2      1  ive been reading about a salmonella recall wit...   \n",
       "3           3      1  I bought these after hearing all of the raves ...   \n",
       "4           4      1  The cans arrived all banged up.  I will never ...   \n",
       "\n",
       "                                        cleaned_text  \n",
       "0  sweet aftertast ca n't toler made press tri fi...  \n",
       "1  item decent look hold brewer fine close well p...  \n",
       "2  ive read salmonella recal product dog complet ...  \n",
       "3  bought hear rave arriv look like worm water ba...  \n",
       "4                 can arriv bang never order compani  "
      ]
     },
     "execution_count": 98,
     "metadata": {},
     "output_type": "execute_result"
    }
   ],
   "source": [
    "df2.head()"
   ]
  },
  {
   "cell_type": "code",
   "execution_count": 99,
   "metadata": {
    "execution": {
     "iopub.execute_input": "2025-03-05T15:33:48.546591Z",
     "iopub.status.busy": "2025-03-05T15:33:48.546214Z",
     "iopub.status.idle": "2025-03-05T15:33:48.592756Z",
     "shell.execute_reply": "2025-03-05T15:33:48.591585Z",
     "shell.execute_reply.started": "2025-03-05T15:33:48.546561Z"
    },
    "trusted": true
   },
   "outputs": [],
   "source": [
    "df2['Score'] = df2['Score'].apply(lambda x: 0 if x < 3 else (1 if x == 3 else 2))\n"
   ]
  },
  {
   "cell_type": "code",
   "execution_count": 100,
   "metadata": {
    "execution": {
     "iopub.execute_input": "2025-03-05T15:33:56.538596Z",
     "iopub.status.busy": "2025-03-05T15:33:56.538223Z",
     "iopub.status.idle": "2025-03-05T15:33:56.547064Z",
     "shell.execute_reply": "2025-03-05T15:33:56.546000Z",
     "shell.execute_reply.started": "2025-03-05T15:33:56.538564Z"
    },
    "trusted": true
   },
   "outputs": [
    {
     "data": {
      "text/plain": [
       "Score\n",
       "0    41600\n",
       "2    41600\n",
       "1    20800\n",
       "Name: count, dtype: int64"
      ]
     },
     "execution_count": 100,
     "metadata": {},
     "output_type": "execute_result"
    }
   ],
   "source": [
    "df2['Score'].value_counts()"
   ]
  },
  {
   "cell_type": "code",
   "execution_count": 122,
   "metadata": {
    "execution": {
     "iopub.execute_input": "2025-03-05T15:48:23.905968Z",
     "iopub.status.busy": "2025-03-05T15:48:23.905663Z",
     "iopub.status.idle": "2025-03-05T15:48:23.913641Z",
     "shell.execute_reply": "2025-03-05T15:48:23.912259Z",
     "shell.execute_reply.started": "2025-03-05T15:48:23.905945Z"
    },
    "trusted": true
   },
   "outputs": [],
   "source": [
    "X=df2['cleaned_text']\n",
    "y=df2['Score']"
   ]
  },
  {
   "cell_type": "code",
   "execution_count": 104,
   "metadata": {
    "execution": {
     "iopub.execute_input": "2025-03-05T15:34:20.938647Z",
     "iopub.status.busy": "2025-03-05T15:34:20.938286Z",
     "iopub.status.idle": "2025-03-05T15:34:20.953375Z",
     "shell.execute_reply": "2025-03-05T15:34:20.952421Z",
     "shell.execute_reply.started": "2025-03-05T15:34:20.938617Z"
    },
    "trusted": true
   },
   "outputs": [
    {
     "data": {
      "text/plain": [
       "{0, 1, 2}"
      ]
     },
     "execution_count": 104,
     "metadata": {},
     "output_type": "execute_result"
    }
   ],
   "source": [
    "set(y)"
   ]
  },
  {
   "cell_type": "markdown",
   "metadata": {},
   "source": [
    "### Vectorization and Modeling"
   ]
  },
  {
   "cell_type": "code",
   "execution_count": 35,
   "metadata": {
    "execution": {
     "iopub.execute_input": "2025-03-05T15:00:24.124277Z",
     "iopub.status.busy": "2025-03-05T15:00:24.123874Z",
     "iopub.status.idle": "2025-03-05T15:00:24.479135Z",
     "shell.execute_reply": "2025-03-05T15:00:24.478397Z",
     "shell.execute_reply.started": "2025-03-05T15:00:24.124234Z"
    },
    "trusted": true
   },
   "outputs": [],
   "source": [
    "from sklearn.pipeline import Pipeline\n",
    "from sklearn.feature_extraction.text import CountVectorizer, TfidfVectorizer, TfidfTransformer\n",
    "from sklearn.linear_model import LogisticRegression\n",
    "from sklearn.ensemble import RandomForestClassifier\n",
    "from sklearn.svm import SVC\n",
    "from sklearn.naive_bayes import MultinomialNB\n",
    "from sklearn.metrics import accuracy_score,confusion_matrix,classification_report\n"
   ]
  },
  {
   "cell_type": "code",
   "execution_count": 124,
   "metadata": {
    "execution": {
     "iopub.execute_input": "2025-03-05T15:48:51.224569Z",
     "iopub.status.busy": "2025-03-05T15:48:51.224215Z",
     "iopub.status.idle": "2025-03-05T15:48:51.242139Z",
     "shell.execute_reply": "2025-03-05T15:48:51.241139Z",
     "shell.execute_reply.started": "2025-03-05T15:48:51.224542Z"
    },
    "trusted": true
   },
   "outputs": [],
   "source": [
    "# Split the data set into two part for training and testing \n",
    "x_train, x_test, y_train, y_test = train_test_split(X,y,random_state = 42,test_size = 0.20)\n"
   ]
  },
  {
   "cell_type": "code",
   "execution_count": 49,
   "metadata": {
    "execution": {
     "iopub.execute_input": "2025-03-05T15:04:47.807983Z",
     "iopub.status.busy": "2025-03-05T15:04:47.807635Z",
     "iopub.status.idle": "2025-03-05T15:04:47.820627Z",
     "shell.execute_reply": "2025-03-05T15:04:47.819633Z",
     "shell.execute_reply.started": "2025-03-05T15:04:47.807953Z"
    },
    "trusted": true
   },
   "outputs": [
    {
     "data": {
      "text/plain": [
       "{0}"
      ]
     },
     "execution_count": 49,
     "metadata": {},
     "output_type": "execute_result"
    }
   ],
   "source": []
  },
  {
   "cell_type": "code",
   "execution_count": 107,
   "metadata": {
    "execution": {
     "iopub.execute_input": "2025-03-05T15:34:53.725504Z",
     "iopub.status.busy": "2025-03-05T15:34:53.725095Z",
     "iopub.status.idle": "2025-03-05T15:35:00.232178Z",
     "shell.execute_reply": "2025-03-05T15:35:00.230711Z",
     "shell.execute_reply.started": "2025-03-05T15:34:53.725474Z"
    },
    "trusted": true
   },
   "outputs": [
    {
     "name": "stderr",
     "output_type": "stream",
     "text": [
      "/usr/local/lib/python3.10/dist-packages/sklearn/linear_model/_logistic.py:458: ConvergenceWarning: lbfgs failed to converge (status=1):\n",
      "STOP: TOTAL NO. of ITERATIONS REACHED LIMIT.\n",
      "\n",
      "Increase the number of iterations (max_iter) or scale the data as shown in:\n",
      "    https://scikit-learn.org/stable/modules/preprocessing.html\n",
      "Please also refer to the documentation for alternative solver options:\n",
      "    https://scikit-learn.org/stable/modules/linear_model.html#logistic-regression\n",
      "  n_iter_i = _check_optimize_result(\n"
     ]
    },
    {
     "data": {
      "text/html": [
       "<style>#sk-container-id-1 {color: black;background-color: white;}#sk-container-id-1 pre{padding: 0;}#sk-container-id-1 div.sk-toggleable {background-color: white;}#sk-container-id-1 label.sk-toggleable__label {cursor: pointer;display: block;width: 100%;margin-bottom: 0;padding: 0.3em;box-sizing: border-box;text-align: center;}#sk-container-id-1 label.sk-toggleable__label-arrow:before {content: \"▸\";float: left;margin-right: 0.25em;color: #696969;}#sk-container-id-1 label.sk-toggleable__label-arrow:hover:before {color: black;}#sk-container-id-1 div.sk-estimator:hover label.sk-toggleable__label-arrow:before {color: black;}#sk-container-id-1 div.sk-toggleable__content {max-height: 0;max-width: 0;overflow: hidden;text-align: left;background-color: #f0f8ff;}#sk-container-id-1 div.sk-toggleable__content pre {margin: 0.2em;color: black;border-radius: 0.25em;background-color: #f0f8ff;}#sk-container-id-1 input.sk-toggleable__control:checked~div.sk-toggleable__content {max-height: 200px;max-width: 100%;overflow: auto;}#sk-container-id-1 input.sk-toggleable__control:checked~label.sk-toggleable__label-arrow:before {content: \"▾\";}#sk-container-id-1 div.sk-estimator input.sk-toggleable__control:checked~label.sk-toggleable__label {background-color: #d4ebff;}#sk-container-id-1 div.sk-label input.sk-toggleable__control:checked~label.sk-toggleable__label {background-color: #d4ebff;}#sk-container-id-1 input.sk-hidden--visually {border: 0;clip: rect(1px 1px 1px 1px);clip: rect(1px, 1px, 1px, 1px);height: 1px;margin: -1px;overflow: hidden;padding: 0;position: absolute;width: 1px;}#sk-container-id-1 div.sk-estimator {font-family: monospace;background-color: #f0f8ff;border: 1px dotted black;border-radius: 0.25em;box-sizing: border-box;margin-bottom: 0.5em;}#sk-container-id-1 div.sk-estimator:hover {background-color: #d4ebff;}#sk-container-id-1 div.sk-parallel-item::after {content: \"\";width: 100%;border-bottom: 1px solid gray;flex-grow: 1;}#sk-container-id-1 div.sk-label:hover label.sk-toggleable__label {background-color: #d4ebff;}#sk-container-id-1 div.sk-serial::before {content: \"\";position: absolute;border-left: 1px solid gray;box-sizing: border-box;top: 0;bottom: 0;left: 50%;z-index: 0;}#sk-container-id-1 div.sk-serial {display: flex;flex-direction: column;align-items: center;background-color: white;padding-right: 0.2em;padding-left: 0.2em;position: relative;}#sk-container-id-1 div.sk-item {position: relative;z-index: 1;}#sk-container-id-1 div.sk-parallel {display: flex;align-items: stretch;justify-content: center;background-color: white;position: relative;}#sk-container-id-1 div.sk-item::before, #sk-container-id-1 div.sk-parallel-item::before {content: \"\";position: absolute;border-left: 1px solid gray;box-sizing: border-box;top: 0;bottom: 0;left: 50%;z-index: -1;}#sk-container-id-1 div.sk-parallel-item {display: flex;flex-direction: column;z-index: 1;position: relative;background-color: white;}#sk-container-id-1 div.sk-parallel-item:first-child::after {align-self: flex-end;width: 50%;}#sk-container-id-1 div.sk-parallel-item:last-child::after {align-self: flex-start;width: 50%;}#sk-container-id-1 div.sk-parallel-item:only-child::after {width: 0;}#sk-container-id-1 div.sk-dashed-wrapped {border: 1px dashed gray;margin: 0 0.4em 0.5em 0.4em;box-sizing: border-box;padding-bottom: 0.4em;background-color: white;}#sk-container-id-1 div.sk-label label {font-family: monospace;font-weight: bold;display: inline-block;line-height: 1.2em;}#sk-container-id-1 div.sk-label-container {text-align: center;}#sk-container-id-1 div.sk-container {/* jupyter's `normalize.less` sets `[hidden] { display: none; }` but bootstrap.min.css set `[hidden] { display: none !important; }` so we also need the `!important` here to be able to override the default hidden behavior on the sphinx rendered scikit-learn.org. See: https://github.com/scikit-learn/scikit-learn/issues/21755 */display: inline-block !important;position: relative;}#sk-container-id-1 div.sk-text-repr-fallback {display: none;}</style><div id=\"sk-container-id-1\" class=\"sk-top-container\"><div class=\"sk-text-repr-fallback\"><pre>LogisticRegression()</pre><b>In a Jupyter environment, please rerun this cell to show the HTML representation or trust the notebook. <br />On GitHub, the HTML representation is unable to render, please try loading this page with nbviewer.org.</b></div><div class=\"sk-container\" hidden><div class=\"sk-item\"><div class=\"sk-estimator sk-toggleable\"><input class=\"sk-toggleable__control sk-hidden--visually\" id=\"sk-estimator-id-1\" type=\"checkbox\" checked><label for=\"sk-estimator-id-1\" class=\"sk-toggleable__label sk-toggleable__label-arrow\">LogisticRegression</label><div class=\"sk-toggleable__content\"><pre>LogisticRegression()</pre></div></div></div></div></div>"
      ],
      "text/plain": [
       "LogisticRegression()"
      ]
     },
     "execution_count": 107,
     "metadata": {},
     "output_type": "execute_result"
    }
   ],
   "source": [
    "log_model=LogisticRegression()\n",
    "log_model.fit(x_train,y_train)"
   ]
  },
  {
   "cell_type": "code",
   "execution_count": 108,
   "metadata": {
    "execution": {
     "iopub.execute_input": "2025-03-05T15:36:08.663909Z",
     "iopub.status.busy": "2025-03-05T15:36:08.663592Z",
     "iopub.status.idle": "2025-03-05T15:36:08.720376Z",
     "shell.execute_reply": "2025-03-05T15:36:08.719140Z",
     "shell.execute_reply.started": "2025-03-05T15:36:08.663885Z"
    },
    "trusted": true
   },
   "outputs": [
    {
     "name": "stdout",
     "output_type": "stream",
     "text": [
      "Training accuracy: 0.7618269230769231\n",
      "Testing accuracy: 0.6806730769230769\n"
     ]
    }
   ],
   "source": [
    "log_pred=log_model.predict(x_test)\n",
    "print('Training accuracy:', log_model.score(x_train,y_train))\n",
    "print('Testing accuracy:',log_model.score(x_test,y_test))"
   ]
  },
  {
   "cell_type": "code",
   "execution_count": 109,
   "metadata": {
    "execution": {
     "iopub.execute_input": "2025-03-05T15:37:35.479094Z",
     "iopub.status.busy": "2025-03-05T15:37:35.478709Z",
     "iopub.status.idle": "2025-03-05T15:37:35.717588Z",
     "shell.execute_reply": "2025-03-05T15:37:35.716353Z",
     "shell.execute_reply.started": "2025-03-05T15:37:35.479061Z"
    },
    "trusted": true
   },
   "outputs": [
    {
     "data": {
      "text/plain": [
       "<Axes: >"
      ]
     },
     "execution_count": 109,
     "metadata": {},
     "output_type": "execute_result"
    },
    {
     "data": {
      "image/png": "[encoded data removed]",
      "text/plain": [
       "<Figure size 640x480 with 2 Axes>"
      ]
     },
     "metadata": {},
     "output_type": "display_data"
    }
   ],
   "source": [
    "sns.heatmap(confusion_matrix(y_test,log_pred), annot=True, fmt=\"d\")\n"
   ]
  },
  {
   "cell_type": "code",
   "execution_count": 119,
   "metadata": {
    "execution": {
     "iopub.execute_input": "2025-03-05T15:47:29.016103Z",
     "iopub.status.busy": "2025-03-05T15:47:29.015721Z",
     "iopub.status.idle": "2025-03-05T15:47:29.020646Z",
     "shell.execute_reply": "2025-03-05T15:47:29.019506Z",
     "shell.execute_reply.started": "2025-03-05T15:47:29.016073Z"
    },
    "trusted": true
   },
   "outputs": [],
   "source": [
    "logistic_pipe=Pipeline(\n",
    "    [\n",
    "      ('vec',CountVectorizer(stop_words= \"english\")),\n",
    "        ('Tf_idf',TfidfTransformer()),\n",
    "        ('log_rg',LogisticRegression()),\n",
    "\n",
    "    ]\n",
    ")"
   ]
  },
  {
   "cell_type": "code",
   "execution_count": 125,
   "metadata": {
    "execution": {
     "iopub.execute_input": "2025-03-05T15:49:01.010671Z",
     "iopub.status.busy": "2025-03-05T15:49:01.010321Z",
     "iopub.status.idle": "2025-03-05T15:49:10.055480Z",
     "shell.execute_reply": "2025-03-05T15:49:10.054278Z",
     "shell.execute_reply.started": "2025-03-05T15:49:01.010644Z"
    },
    "trusted": true
   },
   "outputs": [
    {
     "name": "stderr",
     "output_type": "stream",
     "text": [
      "/usr/local/lib/python3.10/dist-packages/sklearn/linear_model/_logistic.py:458: ConvergenceWarning: lbfgs failed to converge (status=1):\n",
      "STOP: TOTAL NO. of ITERATIONS REACHED LIMIT.\n",
      "\n",
      "Increase the number of iterations (max_iter) or scale the data as shown in:\n",
      "    https://scikit-learn.org/stable/modules/preprocessing.html\n",
      "Please also refer to the documentation for alternative solver options:\n",
      "    https://scikit-learn.org/stable/modules/linear_model.html#logistic-regression\n",
      "  n_iter_i = _check_optimize_result(\n"
     ]
    }
   ],
   "source": [
    "log_fit = logistic_pipe.fit(x_train,y_train)\n"
   ]
  },
  {
   "cell_type": "code",
   "execution_count": 126,
   "metadata": {
    "execution": {
     "iopub.execute_input": "2025-03-05T15:49:37.829458Z",
     "iopub.status.busy": "2025-03-05T15:49:37.829049Z",
     "iopub.status.idle": "2025-03-05T15:49:38.696686Z",
     "shell.execute_reply": "2025-03-05T15:49:38.695358Z",
     "shell.execute_reply.started": "2025-03-05T15:49:37.829427Z"
    },
    "trusted": true
   },
   "outputs": [],
   "source": [
    "log_pred=logistic_pipe.predict(x_test)\n"
   ]
  },
  {
   "cell_type": "code",
   "execution_count": 129,
   "metadata": {
    "execution": {
     "iopub.execute_input": "2025-03-05T15:50:23.453689Z",
     "iopub.status.busy": "2025-03-05T15:50:23.453357Z",
     "iopub.status.idle": "2025-03-05T15:50:28.254867Z",
     "shell.execute_reply": "2025-03-05T15:50:28.253771Z",
     "shell.execute_reply.started": "2025-03-05T15:50:23.453665Z"
    },
    "trusted": true
   },
   "outputs": [
    {
     "name": "stdout",
     "output_type": "stream",
     "text": [
      "Training accuracy: 0.7452764423076923\n",
      "Test accuracy: 0.6910096153846154\n"
     ]
    }
   ],
   "source": [
    "print('Training accuracy:', log_fit.score(x_train,y_train))\n",
    "print('Test accuracy:', log_fit.score(x_test,y_test))\n"
   ]
  },
  {
   "cell_type": "code",
   "execution_count": 130,
   "metadata": {
    "execution": {
     "iopub.execute_input": "2025-03-05T15:50:56.806138Z",
     "iopub.status.busy": "2025-03-05T15:50:56.805805Z",
     "iopub.status.idle": "2025-03-05T15:50:57.055037Z",
     "shell.execute_reply": "2025-03-05T15:50:57.053658Z",
     "shell.execute_reply.started": "2025-03-05T15:50:56.806114Z"
    },
    "trusted": true
   },
   "outputs": [
    {
     "data": {
      "text/plain": [
       "<Axes: >"
      ]
     },
     "execution_count": 130,
     "metadata": {},
     "output_type": "execute_result"
    },
    {
     "data": {
      "image/png": "[encoded data removed]",
      "text/plain": [
       "<Figure size 640x480 with 2 Axes>"
      ]
     },
     "metadata": {},
     "output_type": "display_data"
    }
   ],
   "source": [
    "sns.heatmap(confusion_matrix(y_test,log_pred), annot=True, fmt=\"d\")\n"
   ]
  },
  {
   "cell_type": "code",
   "execution_count": 132,
   "metadata": {
    "execution": {
     "iopub.execute_input": "2025-03-05T15:53:33.521588Z",
     "iopub.status.busy": "2025-03-05T15:53:33.521250Z",
     "iopub.status.idle": "2025-03-05T15:53:33.564061Z",
     "shell.execute_reply": "2025-03-05T15:53:33.562964Z",
     "shell.execute_reply.started": "2025-03-05T15:53:33.521564Z"
    },
    "trusted": true
   },
   "outputs": [
    {
     "name": "stdout",
     "output_type": "stream",
     "text": [
      "              precision    recall  f1-score   support\n",
      "\n",
      "           0     0.7057    0.8004    0.7501      8363\n",
      "           1     0.4813    0.2329    0.3139      4250\n",
      "           2     0.7226    0.8170    0.7669      8187\n",
      "\n",
      "    accuracy                         0.6910     20800\n",
      "   macro avg     0.6365    0.6168    0.6103     20800\n",
      "weighted avg     0.6665    0.6910    0.6676     20800\n",
      "\n"
     ]
    }
   ],
   "source": [
    "print(classification_report(y_test, log_pred,digits=4))\n"
   ]
  },
  {
   "cell_type": "markdown",
   "metadata": {},
   "source": [
    "### Here we can see the nuetral class accuracy is very low , because of imbalanced class"
   ]
  },
  {
   "cell_type": "code",
   "execution_count": null,
   "metadata": {
    "trusted": true
   },
   "outputs": [],
   "source": []
  }
 ],
 "metadata": {
  "kaggle": {
   "accelerator": "none",
   "dataSources": [
    {
     "datasetId": 1461623,
     "sourceId": 2415872,
     "sourceType": "datasetVersion"
    }
   ],
   "dockerImageVersionId": 30918,
   "isGpuEnabled": false,
   "isInternetEnabled": true,
   "language": "python",
   "sourceType": "notebook"
  },
  "kernelspec": {
   "display_name": "Python 3",
   "language": "python",
   "name": "python3"
  },
  "language_info": {
   "codemirror_mode": {
    "name": "ipython",
    "version": 3
   },
   "file_extension": ".py",
   "mimetype": "text/x-python",
   "name": "python",
   "nbconvert_exporter": "python",
   "pygments_lexer": "ipython3",
   "version": "3.10.12"
  }
 },
 "nbformat": 4,
 "nbformat_minor": 4
}

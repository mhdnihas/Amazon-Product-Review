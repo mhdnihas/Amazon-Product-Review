{
 "cells": [
  {
   "cell_type": "code",
   "execution_count": 88,
   "metadata": {
    "_cell_guid": "b1076dfc-b9ad-4769-8c92-a6c4dae69d19",
    "_uuid": "8f2839f25d086af736a60e9eeb907d3b93b6e0e5",
    "execution": {
     "iopub.execute_input": "2025-03-06T06:51:04.511450Z",
     "iopub.status.busy": "2025-03-06T06:51:04.511054Z",
     "iopub.status.idle": "2025-03-06T06:51:04.543067Z",
     "shell.execute_reply": "2025-03-06T06:51:04.541760Z",
     "shell.execute_reply.started": "2025-03-06T06:51:04.511416Z"
    },
    "trusted": true
   },
   "outputs": [
    {
     "name": "stdout",
     "output_type": "stream",
     "text": [
      "/kaggle/input/amazon-product-reviews/Reviews.csv\n"
     ]
    }
   ],
   "source": [
    "# This Python 3 environment comes with many helpful analytics libraries installed\n",
    "# It is defined by the kaggle/python Docker image: https://github.com/kaggle/docker-python\n",
    "# For example, here's several helpful packages to load\n",
    "\n",
    "import numpy as np # linear algebra\n",
    "import pandas as pd # data processing, CSV file I/O (e.g. pd.read_csv)\n",
    "\n",
    "# Input data files are available in the read-only \"../input/\" directory\n",
    "# For example, running this (by clicking run or pressing Shift+Enter) will list all files under the input directory\n",
    "\n",
    "import os\n",
    "for dirname, _, filenames in os.walk('/kaggle/input'):\n",
    "    for filename in filenames:\n",
    "        print(os.path.join(dirname, filename))\n",
    "\n",
    "# You can write up to 20GB to the current directory (/kaggle/working/) that gets preserved as output when you create a version using \"Save & Run All\" \n",
    "# You can also write temporary files to /kaggle/temp/, but they won't be saved outside of the current session"
   ]
  },
  {
   "cell_type": "code",
   "execution_count": 89,
   "metadata": {
    "execution": {
     "iopub.execute_input": "2025-03-06T06:51:09.013729Z",
     "iopub.status.busy": "2025-03-06T06:51:09.013396Z",
     "iopub.status.idle": "2025-03-06T06:51:13.609244Z",
     "shell.execute_reply": "2025-03-06T06:51:13.607596Z",
     "shell.execute_reply.started": "2025-03-06T06:51:09.013703Z"
    },
    "trusted": true
   },
   "outputs": [
    {
     "name": "stdout",
     "output_type": "stream",
     "text": [
      "Requirement already satisfied: mlflow in /usr/local/lib/python3.10/dist-packages (2.20.3)\n",
      "Requirement already satisfied: mlflow-skinny==2.20.3 in /usr/local/lib/python3.10/dist-packages (from mlflow) (2.20.3)\n",
      "Requirement already satisfied: Flask<4 in /usr/local/lib/python3.10/dist-packages (from mlflow) (3.1.0)\n",
      "Requirement already satisfied: Jinja2<4,>=2.11 in /usr/local/lib/python3.10/dist-packages (from mlflow) (3.1.4)\n",
      "Requirement already satisfied: alembic!=1.10.0,<2 in /usr/local/lib/python3.10/dist-packages (from mlflow) (1.14.1)\n",
      "Requirement already satisfied: docker<8,>=4.0.0 in /usr/local/lib/python3.10/dist-packages (from mlflow) (7.1.0)\n",
      "Requirement already satisfied: graphene<4 in /usr/local/lib/python3.10/dist-packages (from mlflow) (3.4.3)\n",
      "Requirement already satisfied: gunicorn<24 in /usr/local/lib/python3.10/dist-packages (from mlflow) (23.0.0)\n",
      "Requirement already satisfied: markdown<4,>=3.3 in /usr/local/lib/python3.10/dist-packages (from mlflow) (3.7)\n",
      "Requirement already satisfied: matplotlib<4 in /usr/local/lib/python3.10/dist-packages (from mlflow) (3.7.5)\n",
      "Requirement already satisfied: numpy<3 in /usr/local/lib/python3.10/dist-packages (from mlflow) (1.26.4)\n",
      "Requirement already satisfied: pandas<3 in /usr/local/lib/python3.10/dist-packages (from mlflow) (2.2.3)\n",
      "Requirement already satisfied: pyarrow<20,>=4.0.0 in /usr/local/lib/python3.10/dist-packages (from mlflow) (19.0.1)\n",
      "Requirement already satisfied: scikit-learn<2 in /usr/local/lib/python3.10/dist-packages (from mlflow) (1.2.2)\n",
      "Requirement already satisfied: scipy<2 in /usr/local/lib/python3.10/dist-packages (from mlflow) (1.13.1)\n",
      "Requirement already satisfied: sqlalchemy<3,>=1.4.0 in /usr/local/lib/python3.10/dist-packages (from mlflow) (2.0.36)\n",
      "Requirement already satisfied: cachetools<6,>=5.0.0 in /usr/local/lib/python3.10/dist-packages (from mlflow-skinny==2.20.3->mlflow) (5.5.0)\n",
      "Requirement already satisfied: click<9,>=7.0 in /usr/local/lib/python3.10/dist-packages (from mlflow-skinny==2.20.3->mlflow) (8.1.7)\n",
      "Requirement already satisfied: cloudpickle<4 in /usr/local/lib/python3.10/dist-packages (from mlflow-skinny==2.20.3->mlflow) (3.1.0)\n",
      "Requirement already satisfied: databricks-sdk<1,>=0.20.0 in /usr/local/lib/python3.10/dist-packages (from mlflow-skinny==2.20.3->mlflow) (0.44.1)\n",
      "Requirement already satisfied: gitpython<4,>=3.1.9 in /usr/local/lib/python3.10/dist-packages (from mlflow-skinny==2.20.3->mlflow) (3.1.43)\n",
      "Requirement already satisfied: importlib_metadata!=4.7.0,<9,>=3.7.0 in /usr/local/lib/python3.10/dist-packages (from mlflow-skinny==2.20.3->mlflow) (8.5.0)\n",
      "Requirement already satisfied: opentelemetry-api<3,>=1.9.0 in /usr/local/lib/python3.10/dist-packages (from mlflow-skinny==2.20.3->mlflow) (1.29.0)\n",
      "Requirement already satisfied: opentelemetry-sdk<3,>=1.9.0 in /usr/local/lib/python3.10/dist-packages (from mlflow-skinny==2.20.3->mlflow) (1.29.0)\n",
      "Requirement already satisfied: packaging<25 in /usr/local/lib/python3.10/dist-packages (from mlflow-skinny==2.20.3->mlflow) (24.2)\n",
      "Requirement already satisfied: protobuf<6,>=3.12.0 in /usr/local/lib/python3.10/dist-packages (from mlflow-skinny==2.20.3->mlflow) (3.20.3)\n",
      "Requirement already satisfied: pydantic<3,>=1.10.8 in /usr/local/lib/python3.10/dist-packages (from mlflow-skinny==2.20.3->mlflow) (2.11.0a2)\n",
      "Requirement already satisfied: pyyaml<7,>=5.1 in /usr/local/lib/python3.10/dist-packages (from mlflow-skinny==2.20.3->mlflow) (6.0.2)\n",
      "Requirement already satisfied: requests<3,>=2.17.3 in /usr/local/lib/python3.10/dist-packages (from mlflow-skinny==2.20.3->mlflow) (2.32.3)\n",
      "Requirement already satisfied: sqlparse<1,>=0.4.0 in /usr/local/lib/python3.10/dist-packages (from mlflow-skinny==2.20.3->mlflow) (0.5.3)\n",
      "Requirement already satisfied: typing-extensions<5,>=4.0.0 in /usr/local/lib/python3.10/dist-packages (from mlflow-skinny==2.20.3->mlflow) (4.12.2)\n",
      "Requirement already satisfied: Mako in /usr/local/lib/python3.10/dist-packages (from alembic!=1.10.0,<2->mlflow) (1.3.9)\n",
      "Requirement already satisfied: urllib3>=1.26.0 in /usr/local/lib/python3.10/dist-packages (from docker<8,>=4.0.0->mlflow) (2.3.0)\n",
      "Requirement already satisfied: Werkzeug>=3.1 in /usr/local/lib/python3.10/dist-packages (from Flask<4->mlflow) (3.1.3)\n",
      "Requirement already satisfied: itsdangerous>=2.2 in /usr/local/lib/python3.10/dist-packages (from Flask<4->mlflow) (2.2.0)\n",
      "Requirement already satisfied: blinker>=1.9 in /usr/local/lib/python3.10/dist-packages (from Flask<4->mlflow) (1.9.0)\n",
      "Requirement already satisfied: graphql-core<3.3,>=3.1 in /usr/local/lib/python3.10/dist-packages (from graphene<4->mlflow) (3.2.6)\n",
      "Requirement already satisfied: graphql-relay<3.3,>=3.1 in /usr/local/lib/python3.10/dist-packages (from graphene<4->mlflow) (3.2.0)\n",
      "Requirement already satisfied: python-dateutil<3,>=2.7.0 in /usr/local/lib/python3.10/dist-packages (from graphene<4->mlflow) (2.9.0.post0)\n",
      "Requirement already satisfied: MarkupSafe>=2.0 in /usr/local/lib/python3.10/dist-packages (from Jinja2<4,>=2.11->mlflow) (3.0.2)\n",
      "Requirement already satisfied: contourpy>=1.0.1 in /usr/local/lib/python3.10/dist-packages (from matplotlib<4->mlflow) (1.3.1)\n",
      "Requirement already satisfied: cycler>=0.10 in /usr/local/lib/python3.10/dist-packages (from matplotlib<4->mlflow) (0.12.1)\n",
      "Requirement already satisfied: fonttools>=4.22.0 in /usr/local/lib/python3.10/dist-packages (from matplotlib<4->mlflow) (4.55.3)\n",
      "Requirement already satisfied: kiwisolver>=1.0.1 in /usr/local/lib/python3.10/dist-packages (from matplotlib<4->mlflow) (1.4.7)\n",
      "Requirement already satisfied: pillow>=6.2.0 in /usr/local/lib/python3.10/dist-packages (from matplotlib<4->mlflow) (11.0.0)\n",
      "Requirement already satisfied: pyparsing>=2.3.1 in /usr/local/lib/python3.10/dist-packages (from matplotlib<4->mlflow) (3.2.0)\n",
      "Requirement already satisfied: mkl_fft in /usr/local/lib/python3.10/dist-packages (from numpy<3->mlflow) (1.3.8)\n",
      "Requirement already satisfied: mkl_random in /usr/local/lib/python3.10/dist-packages (from numpy<3->mlflow) (1.2.4)\n",
      "Requirement already satisfied: mkl_umath in /usr/local/lib/python3.10/dist-packages (from numpy<3->mlflow) (0.1.1)\n",
      "Requirement already satisfied: mkl in /usr/local/lib/python3.10/dist-packages (from numpy<3->mlflow) (2025.0.1)\n",
      "Requirement already satisfied: tbb4py in /usr/local/lib/python3.10/dist-packages (from numpy<3->mlflow) (2022.0.0)\n",
      "Requirement already satisfied: mkl-service in /usr/local/lib/python3.10/dist-packages (from numpy<3->mlflow) (2.4.1)\n",
      "Requirement already satisfied: pytz>=2020.1 in /usr/local/lib/python3.10/dist-packages (from pandas<3->mlflow) (2025.1)\n",
      "Requirement already satisfied: tzdata>=2022.7 in /usr/local/lib/python3.10/dist-packages (from pandas<3->mlflow) (2025.1)\n",
      "Requirement already satisfied: joblib>=1.1.1 in /usr/local/lib/python3.10/dist-packages (from scikit-learn<2->mlflow) (1.4.2)\n",
      "Requirement already satisfied: threadpoolctl>=2.0.0 in /usr/local/lib/python3.10/dist-packages (from scikit-learn<2->mlflow) (3.5.0)\n",
      "Requirement already satisfied: greenlet!=0.4.17 in /usr/local/lib/python3.10/dist-packages (from sqlalchemy<3,>=1.4.0->mlflow) (3.1.1)\n",
      "Requirement already satisfied: google-auth~=2.0 in /usr/local/lib/python3.10/dist-packages (from databricks-sdk<1,>=0.20.0->mlflow-skinny==2.20.3->mlflow) (2.27.0)\n",
      "Requirement already satisfied: gitdb<5,>=4.0.1 in /usr/local/lib/python3.10/dist-packages (from gitpython<4,>=3.1.9->mlflow-skinny==2.20.3->mlflow) (4.0.11)\n",
      "Requirement already satisfied: zipp>=3.20 in /usr/local/lib/python3.10/dist-packages (from importlib_metadata!=4.7.0,<9,>=3.7.0->mlflow-skinny==2.20.3->mlflow) (3.21.0)\n",
      "Requirement already satisfied: deprecated>=1.2.6 in /usr/local/lib/python3.10/dist-packages (from opentelemetry-api<3,>=1.9.0->mlflow-skinny==2.20.3->mlflow) (1.2.15)\n",
      "Requirement already satisfied: opentelemetry-semantic-conventions==0.50b0 in /usr/local/lib/python3.10/dist-packages (from opentelemetry-sdk<3,>=1.9.0->mlflow-skinny==2.20.3->mlflow) (0.50b0)\n",
      "Requirement already satisfied: annotated-types>=0.6.0 in /usr/local/lib/python3.10/dist-packages (from pydantic<3,>=1.10.8->mlflow-skinny==2.20.3->mlflow) (0.7.0)\n",
      "Requirement already satisfied: pydantic-core==2.29.0 in /usr/local/lib/python3.10/dist-packages (from pydantic<3,>=1.10.8->mlflow-skinny==2.20.3->mlflow) (2.29.0)\n",
      "Requirement already satisfied: six>=1.5 in /usr/local/lib/python3.10/dist-packages (from python-dateutil<3,>=2.7.0->graphene<4->mlflow) (1.17.0)\n",
      "Requirement already satisfied: charset-normalizer<4,>=2 in /usr/local/lib/python3.10/dist-packages (from requests<3,>=2.17.3->mlflow-skinny==2.20.3->mlflow) (3.4.1)\n",
      "Requirement already satisfied: idna<4,>=2.5 in /usr/local/lib/python3.10/dist-packages (from requests<3,>=2.17.3->mlflow-skinny==2.20.3->mlflow) (3.10)\n",
      "Requirement already satisfied: certifi>=2017.4.17 in /usr/local/lib/python3.10/dist-packages (from requests<3,>=2.17.3->mlflow-skinny==2.20.3->mlflow) (2025.1.31)\n",
      "Requirement already satisfied: intel-openmp>=2024 in /usr/local/lib/python3.10/dist-packages (from mkl->numpy<3->mlflow) (2024.2.0)\n",
      "Requirement already satisfied: tbb==2022.* in /usr/local/lib/python3.10/dist-packages (from mkl->numpy<3->mlflow) (2022.0.0)\n",
      "Requirement already satisfied: tcmlib==1.* in /usr/local/lib/python3.10/dist-packages (from tbb==2022.*->mkl->numpy<3->mlflow) (1.2.0)\n",
      "Requirement already satisfied: intel-cmplr-lib-rt in /usr/local/lib/python3.10/dist-packages (from mkl_umath->numpy<3->mlflow) (2024.2.0)\n",
      "Requirement already satisfied: wrapt<2,>=1.10 in /usr/local/lib/python3.10/dist-packages (from deprecated>=1.2.6->opentelemetry-api<3,>=1.9.0->mlflow-skinny==2.20.3->mlflow) (1.17.0)\n",
      "Requirement already satisfied: smmap<6,>=3.0.1 in /usr/local/lib/python3.10/dist-packages (from gitdb<5,>=4.0.1->gitpython<4,>=3.1.9->mlflow-skinny==2.20.3->mlflow) (5.0.1)\n",
      "Requirement already satisfied: pyasn1-modules>=0.2.1 in /usr/local/lib/python3.10/dist-packages (from google-auth~=2.0->databricks-sdk<1,>=0.20.0->mlflow-skinny==2.20.3->mlflow) (0.4.1)\n",
      "Requirement already satisfied: rsa<5,>=3.1.4 in /usr/local/lib/python3.10/dist-packages (from google-auth~=2.0->databricks-sdk<1,>=0.20.0->mlflow-skinny==2.20.3->mlflow) (4.9)\n",
      "Requirement already satisfied: intel-cmplr-lib-ur==2024.2.0 in /usr/local/lib/python3.10/dist-packages (from intel-openmp>=2024->mkl->numpy<3->mlflow) (2024.2.0)\n",
      "Requirement already satisfied: pyasn1<0.7.0,>=0.4.6 in /usr/local/lib/python3.10/dist-packages (from pyasn1-modules>=0.2.1->google-auth~=2.0->databricks-sdk<1,>=0.20.0->mlflow-skinny==2.20.3->mlflow) (0.6.1)\n",
      "Note: you may need to restart the kernel to use updated packages.\n"
     ]
    }
   ],
   "source": [
    "pip install mlflow\n"
   ]
  },
  {
   "cell_type": "code",
   "execution_count": 12,
   "metadata": {
    "execution": {
     "iopub.execute_input": "2025-03-06T04:51:08.579364Z",
     "iopub.status.busy": "2025-03-06T04:51:08.578992Z",
     "iopub.status.idle": "2025-03-06T04:51:09.705321Z",
     "shell.execute_reply": "2025-03-06T04:51:09.703997Z",
     "shell.execute_reply.started": "2025-03-06T04:51:08.579318Z"
    },
    "trusted": true
   },
   "outputs": [],
   "source": [
    "import matplotlib.pyplot as plt\n",
    "import seaborn as sns\n",
    "from sklearn.model_selection import train_test_split\n",
    "\n"
   ]
  },
  {
   "cell_type": "markdown",
   "metadata": {
    "execution": {
     "iopub.execute_input": "2025-03-05T10:05:41.716807Z",
     "iopub.status.busy": "2025-03-05T10:05:41.716484Z",
     "iopub.status.idle": "2025-03-05T10:05:41.721381Z",
     "shell.execute_reply": "2025-03-05T10:05:41.720162Z",
     "shell.execute_reply.started": "2025-03-05T10:05:41.716783Z"
    }
   },
   "source": [
    "# 1. Data Ingestion and Preprocessing:"
   ]
  },
  {
   "cell_type": "code",
   "execution_count": 90,
   "metadata": {
    "execution": {
     "iopub.execute_input": "2025-03-06T06:51:16.210745Z",
     "iopub.status.busy": "2025-03-06T06:51:16.210330Z",
     "iopub.status.idle": "2025-03-06T06:51:21.695489Z",
     "shell.execute_reply": "2025-03-06T06:51:21.694381Z",
     "shell.execute_reply.started": "2025-03-06T06:51:16.210710Z"
    },
    "trusted": true
   },
   "outputs": [],
   "source": [
    "df=pd.read_csv(\"/kaggle/input/amazon-product-reviews/Reviews.csv\")"
   ]
  },
  {
   "cell_type": "code",
   "execution_count": 14,
   "metadata": {
    "execution": {
     "iopub.execute_input": "2025-03-06T01:47:59.336854Z",
     "iopub.status.busy": "2025-03-06T01:47:59.336594Z",
     "iopub.status.idle": "2025-03-06T01:47:59.363840Z",
     "shell.execute_reply": "2025-03-06T01:47:59.362886Z",
     "shell.execute_reply.started": "2025-03-06T01:47:59.336832Z"
    },
    "trusted": true
   },
   "outputs": [
    {
     "data": {
      "text/html": [
       "<div>\n",
       "<style scoped>\n",
       "    .dataframe tbody tr th:only-of-type {\n",
       "        vertical-align: middle;\n",
       "    }\n",
       "\n",
       "    .dataframe tbody tr th {\n",
       "        vertical-align: top;\n",
       "    }\n",
       "\n",
       "    .dataframe thead th {\n",
       "        text-align: right;\n",
       "    }\n",
       "</style>\n",
       "<table border=\"1\" class=\"dataframe\">\n",
       "  <thead>\n",
       "    <tr style=\"text-align: right;\">\n",
       "      <th></th>\n",
       "      <th>Id</th>\n",
       "      <th>ProductId</th>\n",
       "      <th>UserId</th>\n",
       "      <th>ProfileName</th>\n",
       "      <th>HelpfulnessNumerator</th>\n",
       "      <th>HelpfulnessDenominator</th>\n",
       "      <th>Score</th>\n",
       "      <th>Time</th>\n",
       "      <th>Summary</th>\n",
       "      <th>Text</th>\n",
       "    </tr>\n",
       "  </thead>\n",
       "  <tbody>\n",
       "    <tr>\n",
       "      <th>0</th>\n",
       "      <td>1</td>\n",
       "      <td>B001E4KFG0</td>\n",
       "      <td>A3SGXH7AUHU8GW</td>\n",
       "      <td>delmartian</td>\n",
       "      <td>1</td>\n",
       "      <td>1</td>\n",
       "      <td>5</td>\n",
       "      <td>1303862400</td>\n",
       "      <td>Good Quality Dog Food</td>\n",
       "      <td>I have bought several of the Vitality canned d...</td>\n",
       "    </tr>\n",
       "    <tr>\n",
       "      <th>1</th>\n",
       "      <td>2</td>\n",
       "      <td>B00813GRG4</td>\n",
       "      <td>A1D87F6ZCVE5NK</td>\n",
       "      <td>dll pa</td>\n",
       "      <td>0</td>\n",
       "      <td>0</td>\n",
       "      <td>1</td>\n",
       "      <td>1346976000</td>\n",
       "      <td>Not as Advertised</td>\n",
       "      <td>Product arrived labeled as Jumbo Salted Peanut...</td>\n",
       "    </tr>\n",
       "    <tr>\n",
       "      <th>2</th>\n",
       "      <td>3</td>\n",
       "      <td>B000LQOCH0</td>\n",
       "      <td>ABXLMWJIXXAIN</td>\n",
       "      <td>Natalia Corres \"Natalia Corres\"</td>\n",
       "      <td>1</td>\n",
       "      <td>1</td>\n",
       "      <td>4</td>\n",
       "      <td>1219017600</td>\n",
       "      <td>\"Delight\" says it all</td>\n",
       "      <td>This is a confection that has been around a fe...</td>\n",
       "    </tr>\n",
       "    <tr>\n",
       "      <th>3</th>\n",
       "      <td>4</td>\n",
       "      <td>B000UA0QIQ</td>\n",
       "      <td>A395BORC6FGVXV</td>\n",
       "      <td>Karl</td>\n",
       "      <td>3</td>\n",
       "      <td>3</td>\n",
       "      <td>2</td>\n",
       "      <td>1307923200</td>\n",
       "      <td>Cough Medicine</td>\n",
       "      <td>If you are looking for the secret ingredient i...</td>\n",
       "    </tr>\n",
       "    <tr>\n",
       "      <th>4</th>\n",
       "      <td>5</td>\n",
       "      <td>B006K2ZZ7K</td>\n",
       "      <td>A1UQRSCLF8GW1T</td>\n",
       "      <td>Michael D. Bigham \"M. Wassir\"</td>\n",
       "      <td>0</td>\n",
       "      <td>0</td>\n",
       "      <td>5</td>\n",
       "      <td>1350777600</td>\n",
       "      <td>Great taffy</td>\n",
       "      <td>Great taffy at a great price.  There was a wid...</td>\n",
       "    </tr>\n",
       "  </tbody>\n",
       "</table>\n",
       "</div>"
      ],
      "text/plain": [
       "   Id   ProductId          UserId                      ProfileName  \\\n",
       "0   1  B001E4KFG0  A3SGXH7AUHU8GW                       delmartian   \n",
       "1   2  B00813GRG4  A1D87F6ZCVE5NK                           dll pa   \n",
       "2   3  B000LQOCH0   ABXLMWJIXXAIN  Natalia Corres \"Natalia Corres\"   \n",
       "3   4  B000UA0QIQ  A395BORC6FGVXV                             Karl   \n",
       "4   5  B006K2ZZ7K  A1UQRSCLF8GW1T    Michael D. Bigham \"M. Wassir\"   \n",
       "\n",
       "   HelpfulnessNumerator  HelpfulnessDenominator  Score        Time  \\\n",
       "0                     1                       1      5  1303862400   \n",
       "1                     0                       0      1  1346976000   \n",
       "2                     1                       1      4  1219017600   \n",
       "3                     3                       3      2  1307923200   \n",
       "4                     0                       0      5  1350777600   \n",
       "\n",
       "                 Summary                                               Text  \n",
       "0  Good Quality Dog Food  I have bought several of the Vitality canned d...  \n",
       "1      Not as Advertised  Product arrived labeled as Jumbo Salted Peanut...  \n",
       "2  \"Delight\" says it all  This is a confection that has been around a fe...  \n",
       "3         Cough Medicine  If you are looking for the secret ingredient i...  \n",
       "4            Great taffy  Great taffy at a great price.  There was a wid...  "
      ]
     },
     "execution_count": 14,
     "metadata": {},
     "output_type": "execute_result"
    }
   ],
   "source": [
    "df.head()"
   ]
  },
  {
   "cell_type": "code",
   "execution_count": 6,
   "metadata": {
    "execution": {
     "iopub.execute_input": "2025-03-06T04:50:46.100227Z",
     "iopub.status.busy": "2025-03-06T04:50:46.099826Z",
     "iopub.status.idle": "2025-03-06T04:50:46.365662Z",
     "shell.execute_reply": "2025-03-06T04:50:46.364597Z",
     "shell.execute_reply.started": "2025-03-06T04:50:46.100178Z"
    },
    "trusted": true
   },
   "outputs": [
    {
     "name": "stdout",
     "output_type": "stream",
     "text": [
      "<class 'pandas.core.frame.DataFrame'>\n",
      "RangeIndex: 568454 entries, 0 to 568453\n",
      "Data columns (total 10 columns):\n",
      " #   Column                  Non-Null Count   Dtype \n",
      "---  ------                  --------------   ----- \n",
      " 0   Id                      568454 non-null  int64 \n",
      " 1   ProductId               568454 non-null  object\n",
      " 2   UserId                  568454 non-null  object\n",
      " 3   ProfileName             568428 non-null  object\n",
      " 4   HelpfulnessNumerator    568454 non-null  int64 \n",
      " 5   HelpfulnessDenominator  568454 non-null  int64 \n",
      " 6   Score                   568454 non-null  int64 \n",
      " 7   Time                    568454 non-null  int64 \n",
      " 8   Summary                 568427 non-null  object\n",
      " 9   Text                    568454 non-null  object\n",
      "dtypes: int64(5), object(5)\n",
      "memory usage: 43.4+ MB\n"
     ]
    }
   ],
   "source": [
    "df.info()"
   ]
  },
  {
   "cell_type": "code",
   "execution_count": 7,
   "metadata": {
    "execution": {
     "iopub.execute_input": "2025-03-06T04:50:46.367750Z",
     "iopub.status.busy": "2025-03-06T04:50:46.367389Z",
     "iopub.status.idle": "2025-03-06T04:50:46.377065Z",
     "shell.execute_reply": "2025-03-06T04:50:46.375927Z",
     "shell.execute_reply.started": "2025-03-06T04:50:46.367715Z"
    },
    "trusted": true
   },
   "outputs": [
    {
     "data": {
      "text/plain": [
       "(568454, 10)"
      ]
     },
     "execution_count": 7,
     "metadata": {},
     "output_type": "execute_result"
    }
   ],
   "source": [
    "df.shape"
   ]
  },
  {
   "cell_type": "markdown",
   "metadata": {},
   "source": [
    "#### Removing unneccessary Columns"
   ]
  },
  {
   "cell_type": "code",
   "execution_count": 8,
   "metadata": {
    "execution": {
     "iopub.execute_input": "2025-03-06T04:50:46.741492Z",
     "iopub.status.busy": "2025-03-06T04:50:46.741010Z",
     "iopub.status.idle": "2025-03-06T04:50:46.811777Z",
     "shell.execute_reply": "2025-03-06T04:50:46.810787Z",
     "shell.execute_reply.started": "2025-03-06T04:50:46.741450Z"
    },
    "trusted": true
   },
   "outputs": [],
   "source": [
    "df.drop(['Id','ProductId','UserId','ProfileName','HelpfulnessNumerator','HelpfulnessDenominator','Time','Summary'],axis=1,inplace=True)"
   ]
  },
  {
   "cell_type": "code",
   "execution_count": 69,
   "metadata": {
    "execution": {
     "iopub.execute_input": "2025-03-05T15:20:36.932751Z",
     "iopub.status.busy": "2025-03-05T15:20:36.932425Z",
     "iopub.status.idle": "2025-03-05T15:20:36.941475Z",
     "shell.execute_reply": "2025-03-05T15:20:36.940280Z",
     "shell.execute_reply.started": "2025-03-05T15:20:36.932724Z"
    },
    "trusted": true
   },
   "outputs": [
    {
     "data": {
      "text/html": [
       "<div>\n",
       "<style scoped>\n",
       "    .dataframe tbody tr th:only-of-type {\n",
       "        vertical-align: middle;\n",
       "    }\n",
       "\n",
       "    .dataframe tbody tr th {\n",
       "        vertical-align: top;\n",
       "    }\n",
       "\n",
       "    .dataframe thead th {\n",
       "        text-align: right;\n",
       "    }\n",
       "</style>\n",
       "<table border=\"1\" class=\"dataframe\">\n",
       "  <thead>\n",
       "    <tr style=\"text-align: right;\">\n",
       "      <th></th>\n",
       "      <th>Score</th>\n",
       "      <th>Text</th>\n",
       "    </tr>\n",
       "  </thead>\n",
       "  <tbody>\n",
       "    <tr>\n",
       "      <th>0</th>\n",
       "      <td>5</td>\n",
       "      <td>I have bought several of the Vitality canned d...</td>\n",
       "    </tr>\n",
       "    <tr>\n",
       "      <th>1</th>\n",
       "      <td>1</td>\n",
       "      <td>Product arrived labeled as Jumbo Salted Peanut...</td>\n",
       "    </tr>\n",
       "    <tr>\n",
       "      <th>2</th>\n",
       "      <td>4</td>\n",
       "      <td>This is a confection that has been around a fe...</td>\n",
       "    </tr>\n",
       "    <tr>\n",
       "      <th>3</th>\n",
       "      <td>2</td>\n",
       "      <td>If you are looking for the secret ingredient i...</td>\n",
       "    </tr>\n",
       "    <tr>\n",
       "      <th>4</th>\n",
       "      <td>5</td>\n",
       "      <td>Great taffy at a great price.  There was a wid...</td>\n",
       "    </tr>\n",
       "  </tbody>\n",
       "</table>\n",
       "</div>"
      ],
      "text/plain": [
       "   Score                                               Text\n",
       "0      5  I have bought several of the Vitality canned d...\n",
       "1      1  Product arrived labeled as Jumbo Salted Peanut...\n",
       "2      4  This is a confection that has been around a fe...\n",
       "3      2  If you are looking for the secret ingredient i...\n",
       "4      5  Great taffy at a great price.  There was a wid..."
      ]
     },
     "execution_count": 69,
     "metadata": {},
     "output_type": "execute_result"
    }
   ],
   "source": [
    "df.head()"
   ]
  },
  {
   "cell_type": "code",
   "execution_count": 9,
   "metadata": {
    "execution": {
     "iopub.execute_input": "2025-03-06T04:50:52.623381Z",
     "iopub.status.busy": "2025-03-06T04:50:52.623017Z",
     "iopub.status.idle": "2025-03-06T04:50:52.704308Z",
     "shell.execute_reply": "2025-03-06T04:50:52.703140Z",
     "shell.execute_reply.started": "2025-03-06T04:50:52.623335Z"
    },
    "trusted": true
   },
   "outputs": [
    {
     "data": {
      "text/plain": [
       "Score    0\n",
       "Text     0\n",
       "dtype: int64"
      ]
     },
     "execution_count": 9,
     "metadata": {},
     "output_type": "execute_result"
    }
   ],
   "source": [
    "## Checking Missing Values\n",
    "df.isna().sum()"
   ]
  },
  {
   "cell_type": "code",
   "execution_count": 16,
   "metadata": {
    "execution": {
     "iopub.execute_input": "2025-03-06T01:48:32.559454Z",
     "iopub.status.busy": "2025-03-06T01:48:32.559056Z",
     "iopub.status.idle": "2025-03-06T01:48:33.291475Z",
     "shell.execute_reply": "2025-03-06T01:48:33.290469Z",
     "shell.execute_reply.started": "2025-03-06T01:48:32.559420Z"
    },
    "trusted": true
   },
   "outputs": [
    {
     "name": "stdout",
     "output_type": "stream",
     "text": [
      "Number of Duplicate in the dataset: 174779\n"
     ]
    }
   ],
   "source": [
    "\n",
    "print('Number of Duplicate in the dataset:',df.duplicated().sum())"
   ]
  },
  {
   "cell_type": "markdown",
   "metadata": {},
   "source": [
    "#### Here no **missing** values but  have **duplicate** values, need to be removed"
   ]
  },
  {
   "cell_type": "code",
   "execution_count": 10,
   "metadata": {
    "execution": {
     "iopub.execute_input": "2025-03-06T04:50:57.056329Z",
     "iopub.status.busy": "2025-03-06T04:50:57.055989Z",
     "iopub.status.idle": "2025-03-06T04:50:57.867262Z",
     "shell.execute_reply": "2025-03-06T04:50:57.866312Z",
     "shell.execute_reply.started": "2025-03-06T04:50:57.056302Z"
    },
    "trusted": true
   },
   "outputs": [],
   "source": [
    "df.drop_duplicates(inplace=True)"
   ]
  },
  {
   "cell_type": "code",
   "execution_count": 72,
   "metadata": {
    "execution": {
     "iopub.execute_input": "2025-03-05T15:20:53.641094Z",
     "iopub.status.busy": "2025-03-05T15:20:53.640721Z",
     "iopub.status.idle": "2025-03-05T15:20:54.198854Z",
     "shell.execute_reply": "2025-03-05T15:20:54.197625Z",
     "shell.execute_reply.started": "2025-03-05T15:20:53.641061Z"
    },
    "trusted": true
   },
   "outputs": [
    {
     "data": {
      "text/plain": [
       "0"
      ]
     },
     "execution_count": 72,
     "metadata": {},
     "output_type": "execute_result"
    }
   ],
   "source": [
    "df.duplicated().sum()"
   ]
  },
  {
   "cell_type": "code",
   "execution_count": 73,
   "metadata": {
    "execution": {
     "iopub.execute_input": "2025-03-05T15:20:54.200620Z",
     "iopub.status.busy": "2025-03-05T15:20:54.200250Z",
     "iopub.status.idle": "2025-03-05T15:20:54.206753Z",
     "shell.execute_reply": "2025-03-05T15:20:54.205570Z",
     "shell.execute_reply.started": "2025-03-05T15:20:54.200591Z"
    },
    "trusted": true
   },
   "outputs": [
    {
     "data": {
      "text/plain": [
       "(393675, 2)"
      ]
     },
     "execution_count": 73,
     "metadata": {},
     "output_type": "execute_result"
    }
   ],
   "source": [
    "df.shape"
   ]
  },
  {
   "cell_type": "markdown",
   "metadata": {},
   "source": [
    "### EDA ( Exploratery Data Analysis)"
   ]
  },
  {
   "cell_type": "code",
   "execution_count": 74,
   "metadata": {
    "execution": {
     "iopub.execute_input": "2025-03-05T15:20:59.792351Z",
     "iopub.status.busy": "2025-03-05T15:20:59.791909Z",
     "iopub.status.idle": "2025-03-05T15:20:59.801913Z",
     "shell.execute_reply": "2025-03-05T15:20:59.800805Z",
     "shell.execute_reply.started": "2025-03-05T15:20:59.792311Z"
    },
    "trusted": true
   },
   "outputs": [
    {
     "data": {
      "text/plain": [
       "array([5, 1, 4, 2, 3])"
      ]
     },
     "execution_count": 74,
     "metadata": {},
     "output_type": "execute_result"
    }
   ],
   "source": [
    "df['Score'].unique()"
   ]
  },
  {
   "cell_type": "code",
   "execution_count": 13,
   "metadata": {
    "execution": {
     "iopub.execute_input": "2025-03-06T04:51:20.374791Z",
     "iopub.status.busy": "2025-03-06T04:51:20.374305Z",
     "iopub.status.idle": "2025-03-06T04:51:20.668301Z",
     "shell.execute_reply": "2025-03-06T04:51:20.667122Z",
     "shell.execute_reply.started": "2025-03-06T04:51:20.374763Z"
    },
    "trusted": true
   },
   "outputs": [
    {
     "data": {
      "text/plain": [
       "<Axes: xlabel='Score', ylabel='count'>"
      ]
     },
     "execution_count": 13,
     "metadata": {},
     "output_type": "execute_result"
    },
    {
     "data": {
      "image/png": "[encoded data removed]",
      "text/plain": [
       "<Figure size 640x480 with 1 Axes>"
      ]
     },
     "metadata": {},
     "output_type": "display_data"
    }
   ],
   "source": [
    "sns.countplot(x=df['Score'])"
   ]
  },
  {
   "cell_type": "markdown",
   "metadata": {},
   "source": [
    "#### Here We can Majority class is 5 , imbalanced classes in the dataset"
   ]
  },
  {
   "cell_type": "code",
   "execution_count": 17,
   "metadata": {
    "execution": {
     "iopub.execute_input": "2025-03-05T14:56:54.434633Z",
     "iopub.status.busy": "2025-03-05T14:56:54.434276Z",
     "iopub.status.idle": "2025-03-05T14:56:54.445617Z",
     "shell.execute_reply": "2025-03-05T14:56:54.444751Z",
     "shell.execute_reply.started": "2025-03-05T14:56:54.434601Z"
    },
    "trusted": true
   },
   "outputs": [
    {
     "data": {
      "text/plain": [
       "Score\n",
       "5    250745\n",
       "4     56074\n",
       "1     36280\n",
       "3     29772\n",
       "2     20804\n",
       "Name: count, dtype: int64"
      ]
     },
     "execution_count": 17,
     "metadata": {},
     "output_type": "execute_result"
    }
   ],
   "source": [
    "df['Score'].value_counts()"
   ]
  },
  {
   "cell_type": "code",
   "execution_count": 18,
   "metadata": {
    "execution": {
     "iopub.execute_input": "2025-03-05T14:56:58.720061Z",
     "iopub.status.busy": "2025-03-05T14:56:58.719740Z",
     "iopub.status.idle": "2025-03-05T14:56:58.729971Z",
     "shell.execute_reply": "2025-03-05T14:56:58.729198Z",
     "shell.execute_reply.started": "2025-03-05T14:56:58.720036Z"
    },
    "trusted": true
   },
   "outputs": [
    {
     "data": {
      "text/plain": [
       "Score\n",
       "5    63.693402\n",
       "4    14.243729\n",
       "1     9.215724\n",
       "3     7.562583\n",
       "2     5.284562\n",
       "Name: count, dtype: float64"
      ]
     },
     "execution_count": 18,
     "metadata": {},
     "output_type": "execute_result"
    }
   ],
   "source": [
    "df['Score'].value_counts()/len(df)*100"
   ]
  },
  {
   "cell_type": "markdown",
   "metadata": {},
   "source": [
    "### observation \n",
    "#### 63% value scores are 5 in the dataset, so high volume of product reviews are positve"
   ]
  },
  {
   "cell_type": "markdown",
   "metadata": {},
   "source": [
    "### Taking Samples from each scores "
   ]
  },
  {
   "cell_type": "code",
   "execution_count": 14,
   "metadata": {
    "execution": {
     "iopub.execute_input": "2025-03-06T04:51:31.451106Z",
     "iopub.status.busy": "2025-03-06T04:51:31.450774Z",
     "iopub.status.idle": "2025-03-06T04:51:31.455446Z",
     "shell.execute_reply": "2025-03-06T04:51:31.454215Z",
     "shell.execute_reply.started": "2025-03-06T04:51:31.451079Z"
    },
    "trusted": true
   },
   "outputs": [],
   "source": [
    "# Sample required sizes for each class\n",
    "neutral_size = 20900  # Score = 3\n",
    "negative_size = 20900  # Score = 1 & 2\n",
    "positive_size = 20900  # Score = 4 & 5"
   ]
  },
  {
   "cell_type": "code",
   "execution_count": 15,
   "metadata": {
    "execution": {
     "iopub.execute_input": "2025-03-06T04:51:31.768059Z",
     "iopub.status.busy": "2025-03-06T04:51:31.767729Z",
     "iopub.status.idle": "2025-03-06T04:51:31.847561Z",
     "shell.execute_reply": "2025-03-06T04:51:31.846444Z",
     "shell.execute_reply.started": "2025-03-06T04:51:31.768031Z"
    },
    "trusted": true
   },
   "outputs": [],
   "source": [
    "# Sampling each group\n",
    "df_neutral = df[df['Score'] == 3].sample(neutral_size, random_state=42)\n",
    "\n",
    "df_negative = df[df['Score'].isin([1, 2])].sample(negative_size, random_state=42)\n",
    "\n",
    "df_positive = df[df['Score'].isin([4, 5])].sample(positive_size, random_state=42)\n"
   ]
  },
  {
   "cell_type": "code",
   "execution_count": 16,
   "metadata": {
    "execution": {
     "iopub.execute_input": "2025-03-06T04:51:34.887204Z",
     "iopub.status.busy": "2025-03-06T04:51:34.886862Z",
     "iopub.status.idle": "2025-03-06T04:51:34.900449Z",
     "shell.execute_reply": "2025-03-06T04:51:34.899127Z",
     "shell.execute_reply.started": "2025-03-06T04:51:34.887175Z"
    },
    "trusted": true
   },
   "outputs": [],
   "source": [
    "df_balanced = pd.concat([df_neutral, df_negative, df_positive]).reset_index(drop=True)\n"
   ]
  },
  {
   "cell_type": "code",
   "execution_count": 21,
   "metadata": {
    "execution": {
     "iopub.execute_input": "2025-03-06T01:48:56.422565Z",
     "iopub.status.busy": "2025-03-06T01:48:56.422248Z",
     "iopub.status.idle": "2025-03-06T01:48:56.432458Z",
     "shell.execute_reply": "2025-03-06T01:48:56.431295Z",
     "shell.execute_reply.started": "2025-03-06T01:48:56.422540Z"
    },
    "trusted": true
   },
   "outputs": [
    {
     "data": {
      "text/plain": [
       "Score\n",
       "3    20900\n",
       "5    16987\n",
       "1    13290\n",
       "2     7610\n",
       "4     3913\n",
       "Name: count, dtype: int64"
      ]
     },
     "execution_count": 21,
     "metadata": {},
     "output_type": "execute_result"
    }
   ],
   "source": [
    "df_balanced['Score'].value_counts()"
   ]
  },
  {
   "cell_type": "code",
   "execution_count": 17,
   "metadata": {
    "execution": {
     "iopub.execute_input": "2025-03-06T04:51:39.025241Z",
     "iopub.status.busy": "2025-03-06T04:51:39.024896Z",
     "iopub.status.idle": "2025-03-06T04:51:39.045868Z",
     "shell.execute_reply": "2025-03-06T04:51:39.044733Z",
     "shell.execute_reply.started": "2025-03-06T04:51:39.025215Z"
    },
    "trusted": true
   },
   "outputs": [],
   "source": [
    "df_balanced['Sentiment'] = df_balanced['Score'].map(lambda x: 'Negative' if x in [1, 2] \n",
    "                                                    else 'Neutral' if x == 3 \n",
    "                                                    else 'Positive')"
   ]
  },
  {
   "cell_type": "code",
   "execution_count": 18,
   "metadata": {
    "execution": {
     "iopub.execute_input": "2025-03-06T04:51:43.618182Z",
     "iopub.status.busy": "2025-03-06T04:51:43.617832Z",
     "iopub.status.idle": "2025-03-06T04:51:43.622407Z",
     "shell.execute_reply": "2025-03-06T04:51:43.621197Z",
     "shell.execute_reply.started": "2025-03-06T04:51:43.618155Z"
    },
    "trusted": true
   },
   "outputs": [],
   "source": [
    "df1=df_balanced"
   ]
  },
  {
   "cell_type": "markdown",
   "metadata": {},
   "source": [
    "#### By taking **20800** samples from each **score** , the data become balanced and we have 104000 raw data"
   ]
  },
  {
   "cell_type": "code",
   "execution_count": 24,
   "metadata": {
    "execution": {
     "iopub.execute_input": "2025-03-06T01:49:07.794779Z",
     "iopub.status.busy": "2025-03-06T01:49:07.794458Z",
     "iopub.status.idle": "2025-03-06T01:49:07.800465Z",
     "shell.execute_reply": "2025-03-06T01:49:07.799483Z",
     "shell.execute_reply.started": "2025-03-06T01:49:07.794752Z"
    },
    "trusted": true
   },
   "outputs": [
    {
     "data": {
      "text/plain": [
       "(62700, 3)"
      ]
     },
     "execution_count": 24,
     "metadata": {},
     "output_type": "execute_result"
    }
   ],
   "source": [
    "df1.shape"
   ]
  },
  {
   "cell_type": "code",
   "execution_count": 152,
   "metadata": {
    "execution": {
     "iopub.execute_input": "2025-03-05T16:14:23.004702Z",
     "iopub.status.busy": "2025-03-05T16:14:23.004376Z",
     "iopub.status.idle": "2025-03-05T16:14:23.176937Z",
     "shell.execute_reply": "2025-03-05T16:14:23.175865Z",
     "shell.execute_reply.started": "2025-03-05T16:14:23.004676Z"
    },
    "trusted": true
   },
   "outputs": [
    {
     "data": {
      "text/plain": [
       "<Axes: xlabel='Score', ylabel='count'>"
      ]
     },
     "execution_count": 152,
     "metadata": {},
     "output_type": "execute_result"
    },
    {
     "data": {
      "image/png": "[encoded data removed]",
      "text/plain": [
       "<Figure size 640x480 with 1 Axes>"
      ]
     },
     "metadata": {},
     "output_type": "display_data"
    }
   ],
   "source": [
    "sns.countplot(x=df1['Score'])"
   ]
  },
  {
   "cell_type": "code",
   "execution_count": 19,
   "metadata": {
    "execution": {
     "iopub.execute_input": "2025-03-06T04:51:49.259296Z",
     "iopub.status.busy": "2025-03-06T04:51:49.258950Z",
     "iopub.status.idle": "2025-03-06T04:51:49.449624Z",
     "shell.execute_reply": "2025-03-06T04:51:49.448327Z",
     "shell.execute_reply.started": "2025-03-06T04:51:49.259266Z"
    },
    "trusted": true
   },
   "outputs": [
    {
     "data": {
      "text/plain": [
       "<Axes: xlabel='Sentiment', ylabel='count'>"
      ]
     },
     "execution_count": 19,
     "metadata": {},
     "output_type": "execute_result"
    },
    {
     "data": {
      "image/png": "[encoded data removed]",
      "text/plain": [
       "<Figure size 600x400 with 1 Axes>"
      ]
     },
     "metadata": {},
     "output_type": "display_data"
    }
   ],
   "source": [
    "plt.figure(figsize=(6,4))\n",
    "sns.countplot(x=df1['Sentiment'], order=['Negative', 'Neutral', 'Positive'], palette=['red', 'blue', 'green'])\n"
   ]
  },
  {
   "cell_type": "markdown",
   "metadata": {},
   "source": [
    "##### As shown,```Sentiment``` Column is balanced and each value have the same distribution so the model won't be biased to specific value."
   ]
  },
  {
   "cell_type": "code",
   "execution_count": 20,
   "metadata": {
    "execution": {
     "iopub.execute_input": "2025-03-06T04:51:54.934335Z",
     "iopub.status.busy": "2025-03-06T04:51:54.933997Z",
     "iopub.status.idle": "2025-03-06T04:51:54.948157Z",
     "shell.execute_reply": "2025-03-06T04:51:54.947165Z",
     "shell.execute_reply.started": "2025-03-06T04:51:54.934309Z"
    },
    "trusted": true
   },
   "outputs": [],
   "source": [
    "# Remove Score column , because we created sentiment columns instead of this\n",
    "df1.drop('Score',axis=1,inplace=True)"
   ]
  },
  {
   "cell_type": "markdown",
   "metadata": {},
   "source": [
    "### Text Preprocessing"
   ]
  },
  {
   "cell_type": "code",
   "execution_count": 23,
   "metadata": {
    "execution": {
     "iopub.execute_input": "2025-03-06T04:52:05.240267Z",
     "iopub.status.busy": "2025-03-06T04:52:05.239930Z",
     "iopub.status.idle": "2025-03-06T04:52:05.244870Z",
     "shell.execute_reply": "2025-03-06T04:52:05.243689Z",
     "shell.execute_reply.started": "2025-03-06T04:52:05.240239Z"
    },
    "trusted": true
   },
   "outputs": [],
   "source": [
    "import string\n",
    "from nltk.tokenize import word_tokenize\n",
    "from nltk.corpus import stopwords \n",
    "from nltk.stem import WordNetLemmatizer,PorterStemmer\n"
   ]
  },
  {
   "cell_type": "code",
   "execution_count": 21,
   "metadata": {
    "execution": {
     "iopub.execute_input": "2025-03-06T04:51:58.930518Z",
     "iopub.status.busy": "2025-03-06T04:51:58.930106Z",
     "iopub.status.idle": "2025-03-06T04:52:00.065626Z",
     "shell.execute_reply": "2025-03-06T04:52:00.064678Z",
     "shell.execute_reply.started": "2025-03-06T04:51:58.930482Z"
    },
    "trusted": true
   },
   "outputs": [
    {
     "name": "stdout",
     "output_type": "stream",
     "text": [
      "[nltk_data] Downloading package stopwords to /usr/share/nltk_data...\n",
      "[nltk_data]   Unzipping corpora/stopwords.zip.\n"
     ]
    },
    {
     "data": {
      "text/plain": [
       "True"
      ]
     },
     "execution_count": 21,
     "metadata": {},
     "output_type": "execute_result"
    }
   ],
   "source": [
    "import nltk \n",
    "nltk.download('stopwords')"
   ]
  },
  {
   "cell_type": "code",
   "execution_count": 24,
   "metadata": {
    "execution": {
     "iopub.execute_input": "2025-03-06T04:52:09.523449Z",
     "iopub.status.busy": "2025-03-06T04:52:09.523072Z",
     "iopub.status.idle": "2025-03-06T04:52:09.529770Z",
     "shell.execute_reply": "2025-03-06T04:52:09.528863Z",
     "shell.execute_reply.started": "2025-03-06T04:52:09.523422Z"
    },
    "trusted": true
   },
   "outputs": [],
   "source": [
    "stop_words=set(stopwords.words('english'))"
   ]
  },
  {
   "cell_type": "code",
   "execution_count": 26,
   "metadata": {
    "execution": {
     "iopub.execute_input": "2025-03-05T11:53:18.183118Z",
     "iopub.status.busy": "2025-03-05T11:53:18.182745Z",
     "iopub.status.idle": "2025-03-05T11:53:18.204044Z",
     "shell.execute_reply": "2025-03-05T11:53:18.202818Z",
     "shell.execute_reply.started": "2025-03-05T11:53:18.183088Z"
    },
    "trusted": true
   },
   "outputs": [
    {
     "data": {
      "text/plain": [
       "{'a',\n",
       " 'about',\n",
       " 'above',\n",
       " 'after',\n",
       " 'again',\n",
       " 'against',\n",
       " 'ain',\n",
       " 'all',\n",
       " 'am',\n",
       " 'an',\n",
       " 'and',\n",
       " 'any',\n",
       " 'are',\n",
       " 'aren',\n",
       " \"aren't\",\n",
       " 'as',\n",
       " 'at',\n",
       " 'be',\n",
       " 'because',\n",
       " 'been',\n",
       " 'before',\n",
       " 'being',\n",
       " 'below',\n",
       " 'between',\n",
       " 'both',\n",
       " 'but',\n",
       " 'by',\n",
       " 'can',\n",
       " 'couldn',\n",
       " \"couldn't\",\n",
       " 'd',\n",
       " 'did',\n",
       " 'didn',\n",
       " \"didn't\",\n",
       " 'do',\n",
       " 'does',\n",
       " 'doesn',\n",
       " \"doesn't\",\n",
       " 'doing',\n",
       " 'don',\n",
       " \"don't\",\n",
       " 'down',\n",
       " 'during',\n",
       " 'each',\n",
       " 'few',\n",
       " 'for',\n",
       " 'from',\n",
       " 'further',\n",
       " 'had',\n",
       " 'hadn',\n",
       " \"hadn't\",\n",
       " 'has',\n",
       " 'hasn',\n",
       " \"hasn't\",\n",
       " 'have',\n",
       " 'haven',\n",
       " \"haven't\",\n",
       " 'having',\n",
       " 'he',\n",
       " \"he'd\",\n",
       " \"he'll\",\n",
       " \"he's\",\n",
       " 'her',\n",
       " 'here',\n",
       " 'hers',\n",
       " 'herself',\n",
       " 'him',\n",
       " 'himself',\n",
       " 'his',\n",
       " 'how',\n",
       " 'i',\n",
       " \"i'd\",\n",
       " \"i'll\",\n",
       " \"i'm\",\n",
       " \"i've\",\n",
       " 'if',\n",
       " 'in',\n",
       " 'into',\n",
       " 'is',\n",
       " 'isn',\n",
       " \"isn't\",\n",
       " 'it',\n",
       " \"it'd\",\n",
       " \"it'll\",\n",
       " \"it's\",\n",
       " 'its',\n",
       " 'itself',\n",
       " 'just',\n",
       " 'll',\n",
       " 'm',\n",
       " 'ma',\n",
       " 'me',\n",
       " 'mightn',\n",
       " \"mightn't\",\n",
       " 'more',\n",
       " 'most',\n",
       " 'mustn',\n",
       " \"mustn't\",\n",
       " 'my',\n",
       " 'myself',\n",
       " 'needn',\n",
       " \"needn't\",\n",
       " 'no',\n",
       " 'nor',\n",
       " 'not',\n",
       " 'now',\n",
       " 'o',\n",
       " 'of',\n",
       " 'off',\n",
       " 'on',\n",
       " 'once',\n",
       " 'only',\n",
       " 'or',\n",
       " 'other',\n",
       " 'our',\n",
       " 'ours',\n",
       " 'ourselves',\n",
       " 'out',\n",
       " 'over',\n",
       " 'own',\n",
       " 're',\n",
       " 's',\n",
       " 'same',\n",
       " 'shan',\n",
       " \"shan't\",\n",
       " 'she',\n",
       " \"she'd\",\n",
       " \"she'll\",\n",
       " \"she's\",\n",
       " 'should',\n",
       " \"should've\",\n",
       " 'shouldn',\n",
       " \"shouldn't\",\n",
       " 'so',\n",
       " 'some',\n",
       " 'such',\n",
       " 't',\n",
       " 'than',\n",
       " 'that',\n",
       " \"that'll\",\n",
       " 'the',\n",
       " 'their',\n",
       " 'theirs',\n",
       " 'them',\n",
       " 'themselves',\n",
       " 'then',\n",
       " 'there',\n",
       " 'these',\n",
       " 'they',\n",
       " \"they'd\",\n",
       " \"they'll\",\n",
       " \"they're\",\n",
       " \"they've\",\n",
       " 'this',\n",
       " 'those',\n",
       " 'through',\n",
       " 'to',\n",
       " 'too',\n",
       " 'under',\n",
       " 'until',\n",
       " 'up',\n",
       " 've',\n",
       " 'very',\n",
       " 'was',\n",
       " 'wasn',\n",
       " \"wasn't\",\n",
       " 'we',\n",
       " \"we'd\",\n",
       " \"we'll\",\n",
       " \"we're\",\n",
       " \"we've\",\n",
       " 'were',\n",
       " 'weren',\n",
       " \"weren't\",\n",
       " 'what',\n",
       " 'when',\n",
       " 'where',\n",
       " 'which',\n",
       " 'while',\n",
       " 'who',\n",
       " 'whom',\n",
       " 'why',\n",
       " 'will',\n",
       " 'with',\n",
       " 'won',\n",
       " \"won't\",\n",
       " 'wouldn',\n",
       " \"wouldn't\",\n",
       " 'y',\n",
       " 'you',\n",
       " \"you'd\",\n",
       " \"you'll\",\n",
       " \"you're\",\n",
       " \"you've\",\n",
       " 'your',\n",
       " 'yours',\n",
       " 'yourself',\n",
       " 'yourselves'}"
      ]
     },
     "execution_count": 26,
     "metadata": {},
     "output_type": "execute_result"
    }
   ],
   "source": [
    "stop_words"
   ]
  },
  {
   "cell_type": "code",
   "execution_count": 25,
   "metadata": {
    "execution": {
     "iopub.execute_input": "2025-03-06T04:52:14.350367Z",
     "iopub.status.busy": "2025-03-06T04:52:14.349975Z",
     "iopub.status.idle": "2025-03-06T04:52:14.354884Z",
     "shell.execute_reply": "2025-03-06T04:52:14.353576Z",
     "shell.execute_reply.started": "2025-03-06T04:52:14.350311Z"
    },
    "trusted": true
   },
   "outputs": [],
   "source": [
    "stemming=PorterStemmer()"
   ]
  },
  {
   "cell_type": "code",
   "execution_count": 26,
   "metadata": {
    "execution": {
     "iopub.execute_input": "2025-03-06T04:52:15.034645Z",
     "iopub.status.busy": "2025-03-06T04:52:15.034271Z",
     "iopub.status.idle": "2025-03-06T04:52:15.040368Z",
     "shell.execute_reply": "2025-03-06T04:52:15.039051Z",
     "shell.execute_reply.started": "2025-03-06T04:52:15.034616Z"
    },
    "trusted": true
   },
   "outputs": [],
   "source": [
    "def preprocess_text(text):\n",
    "    # convert text into lower\n",
    "    text=text.lower()\n",
    "\n",
    "    # make tokens ( words)\n",
    "    tokens=word_tokenize(text)\n",
    "\n",
    "    # Remove punctuations (like: , ? , etc)\n",
    "    tokens=[word for word in tokens if word not in string.punctuation]\n",
    "\n",
    "    # Remove stopwords ( like : is , am , for ,etc\n",
    "    tokens =[word for word in tokens if word not in stop_words]\n",
    "\n",
    "    # Remove numbers\n",
    "    tokens=[word for word in tokens if not word.isdigit()]\n",
    "\n",
    "    # apply stemming\n",
    "    tokens=[stemming.stem(word) for word in tokens]\n",
    "\n",
    "    return ' '.join(tokens)\n",
    "    "
   ]
  },
  {
   "cell_type": "code",
   "execution_count": 27,
   "metadata": {
    "execution": {
     "iopub.execute_input": "2025-03-06T04:52:19.381665Z",
     "iopub.status.busy": "2025-03-06T04:52:19.381263Z",
     "iopub.status.idle": "2025-03-06T04:54:03.440716Z",
     "shell.execute_reply": "2025-03-06T04:54:03.439721Z",
     "shell.execute_reply.started": "2025-03-06T04:52:19.381629Z"
    },
    "trusted": true
   },
   "outputs": [],
   "source": [
    "df1['cleaned_text']=df1['Text'].apply(preprocess_text)"
   ]
  },
  {
   "cell_type": "code",
   "execution_count": 28,
   "metadata": {
    "execution": {
     "iopub.execute_input": "2025-03-06T04:54:03.442509Z",
     "iopub.status.busy": "2025-03-06T04:54:03.442171Z",
     "iopub.status.idle": "2025-03-06T04:54:04.556732Z",
     "shell.execute_reply": "2025-03-06T04:54:04.555730Z",
     "shell.execute_reply.started": "2025-03-06T04:54:03.442480Z"
    },
    "trusted": true
   },
   "outputs": [],
   "source": [
    "# save the cleaned text\n",
    "df1.to_csv('df1.csv')"
   ]
  },
  {
   "cell_type": "code",
   "execution_count": 92,
   "metadata": {
    "execution": {
     "iopub.execute_input": "2025-03-06T06:51:43.080417Z",
     "iopub.status.busy": "2025-03-06T06:51:43.080012Z",
     "iopub.status.idle": "2025-03-06T06:51:43.669813Z",
     "shell.execute_reply": "2025-03-06T06:51:43.668773Z",
     "shell.execute_reply.started": "2025-03-06T06:51:43.080382Z"
    },
    "trusted": true
   },
   "outputs": [],
   "source": [
    "df2=pd.read_csv('/kaggle/working/df1.csv')"
   ]
  },
  {
   "cell_type": "code",
   "execution_count": 93,
   "metadata": {
    "execution": {
     "iopub.execute_input": "2025-03-06T06:51:45.167787Z",
     "iopub.status.busy": "2025-03-06T06:51:45.167444Z",
     "iopub.status.idle": "2025-03-06T06:51:45.184313Z",
     "shell.execute_reply": "2025-03-06T06:51:45.183221Z",
     "shell.execute_reply.started": "2025-03-06T06:51:45.167759Z"
    },
    "trusted": true
   },
   "outputs": [
    {
     "data": {
      "text/plain": [
       "Sentiment\n",
       "Neutral     20900\n",
       "Negative    20900\n",
       "Positive    20900\n",
       "Name: count, dtype: int64"
      ]
     },
     "execution_count": 93,
     "metadata": {},
     "output_type": "execute_result"
    }
   ],
   "source": [
    "df2['Sentiment'].value_counts()"
   ]
  },
  {
   "cell_type": "code",
   "execution_count": 162,
   "metadata": {
    "execution": {
     "iopub.execute_input": "2025-03-05T16:22:30.592865Z",
     "iopub.status.busy": "2025-03-05T16:22:30.592549Z",
     "iopub.status.idle": "2025-03-05T16:22:30.602335Z",
     "shell.execute_reply": "2025-03-05T16:22:30.601274Z",
     "shell.execute_reply.started": "2025-03-05T16:22:30.592841Z"
    },
    "trusted": true
   },
   "outputs": [
    {
     "data": {
      "text/html": [
       "<div>\n",
       "<style scoped>\n",
       "    .dataframe tbody tr th:only-of-type {\n",
       "        vertical-align: middle;\n",
       "    }\n",
       "\n",
       "    .dataframe tbody tr th {\n",
       "        vertical-align: top;\n",
       "    }\n",
       "\n",
       "    .dataframe thead th {\n",
       "        text-align: right;\n",
       "    }\n",
       "</style>\n",
       "<table border=\"1\" class=\"dataframe\">\n",
       "  <thead>\n",
       "    <tr style=\"text-align: right;\">\n",
       "      <th></th>\n",
       "      <th>Unnamed: 0</th>\n",
       "      <th>Text</th>\n",
       "      <th>Sentiment</th>\n",
       "      <th>cleaned_text</th>\n",
       "    </tr>\n",
       "  </thead>\n",
       "  <tbody>\n",
       "    <tr>\n",
       "      <th>0</th>\n",
       "      <td>0</td>\n",
       "      <td>Ok here we go again, another reviewer who says...</td>\n",
       "      <td>Neutral</td>\n",
       "      <td>ok go anoth review say bad high fructos corn s...</td>\n",
       "    </tr>\n",
       "    <tr>\n",
       "      <th>1</th>\n",
       "      <td>1</td>\n",
       "      <td>I wanted the reduced fat bisquick but was give...</td>\n",
       "      <td>Neutral</td>\n",
       "      <td>want reduc fat bisquick given heart healthi in...</td>\n",
       "    </tr>\n",
       "    <tr>\n",
       "      <th>2</th>\n",
       "      <td>2</td>\n",
       "      <td>Bassettss is commonly regarded as THE premium ...</td>\n",
       "      <td>Neutral</td>\n",
       "      <td>bassettss commonli regard premium brand all-so...</td>\n",
       "    </tr>\n",
       "    <tr>\n",
       "      <th>3</th>\n",
       "      <td>3</td>\n",
       "      <td>I ordered these to have at my son's Harry Pott...</td>\n",
       "      <td>Neutral</td>\n",
       "      <td>order son 's harri potter birthday parti kid f...</td>\n",
       "    </tr>\n",
       "    <tr>\n",
       "      <th>4</th>\n",
       "      <td>4</td>\n",
       "      <td>That's pretty much what these ramen noodles ha...</td>\n",
       "      <td>Neutral</td>\n",
       "      <td>'s pretti much ramen noodl spici love spici no...</td>\n",
       "    </tr>\n",
       "  </tbody>\n",
       "</table>\n",
       "</div>"
      ],
      "text/plain": [
       "   Unnamed: 0                                               Text Sentiment  \\\n",
       "0           0  Ok here we go again, another reviewer who says...   Neutral   \n",
       "1           1  I wanted the reduced fat bisquick but was give...   Neutral   \n",
       "2           2  Bassettss is commonly regarded as THE premium ...   Neutral   \n",
       "3           3  I ordered these to have at my son's Harry Pott...   Neutral   \n",
       "4           4  That's pretty much what these ramen noodles ha...   Neutral   \n",
       "\n",
       "                                        cleaned_text  \n",
       "0  ok go anoth review say bad high fructos corn s...  \n",
       "1  want reduc fat bisquick given heart healthi in...  \n",
       "2  bassettss commonli regard premium brand all-so...  \n",
       "3  order son 's harri potter birthday parti kid f...  \n",
       "4  's pretti much ramen noodl spici love spici no...  "
      ]
     },
     "execution_count": 162,
     "metadata": {},
     "output_type": "execute_result"
    }
   ],
   "source": [
    "df2.head()"
   ]
  },
  {
   "cell_type": "code",
   "execution_count": 94,
   "metadata": {
    "execution": {
     "iopub.execute_input": "2025-03-06T06:51:50.718140Z",
     "iopub.status.busy": "2025-03-06T06:51:50.717677Z",
     "iopub.status.idle": "2025-03-06T06:51:50.751119Z",
     "shell.execute_reply": "2025-03-06T06:51:50.750153Z",
     "shell.execute_reply.started": "2025-03-06T06:51:50.718105Z"
    },
    "trusted": true
   },
   "outputs": [],
   "source": [
    "df2['Sentiment'] = df2['Sentiment'].apply(lambda x: 0 if x=='Negative' else (1 if x == 'Neutral' else 2))\n",
    "\n",
    "# Negative - 0\n",
    "# Neutral - 1\n",
    "# positive - 2"
   ]
  },
  {
   "cell_type": "code",
   "execution_count": 35,
   "metadata": {
    "execution": {
     "iopub.execute_input": "2025-03-06T05:16:50.778419Z",
     "iopub.status.busy": "2025-03-06T05:16:50.778053Z",
     "iopub.status.idle": "2025-03-06T05:16:50.786190Z",
     "shell.execute_reply": "2025-03-06T05:16:50.785258Z",
     "shell.execute_reply.started": "2025-03-06T05:16:50.778386Z"
    },
    "trusted": true
   },
   "outputs": [
    {
     "data": {
      "text/plain": [
       "Sentiment\n",
       "1    20900\n",
       "0    20900\n",
       "2    20900\n",
       "Name: count, dtype: int64"
      ]
     },
     "execution_count": 35,
     "metadata": {},
     "output_type": "execute_result"
    }
   ],
   "source": [
    "df2['Sentiment'].value_counts()"
   ]
  },
  {
   "cell_type": "code",
   "execution_count": 95,
   "metadata": {
    "execution": {
     "iopub.execute_input": "2025-03-06T06:51:56.913244Z",
     "iopub.status.busy": "2025-03-06T06:51:56.912818Z",
     "iopub.status.idle": "2025-03-06T06:51:56.998162Z",
     "shell.execute_reply": "2025-03-06T06:51:56.997054Z",
     "shell.execute_reply.started": "2025-03-06T06:51:56.913204Z"
    },
    "trusted": true
   },
   "outputs": [],
   "source": [
    "X=df2['cleaned_text']\n",
    "y=df2['Sentiment']"
   ]
  },
  {
   "cell_type": "code",
   "execution_count": 96,
   "metadata": {
    "execution": {
     "iopub.execute_input": "2025-03-06T06:52:00.600508Z",
     "iopub.status.busy": "2025-03-06T06:52:00.600075Z",
     "iopub.status.idle": "2025-03-06T06:52:00.612689Z",
     "shell.execute_reply": "2025-03-06T06:52:00.611368Z",
     "shell.execute_reply.started": "2025-03-06T06:52:00.600473Z"
    },
    "trusted": true
   },
   "outputs": [
    {
     "data": {
      "text/plain": [
       "{0, 1, 2}"
      ]
     },
     "execution_count": 96,
     "metadata": {},
     "output_type": "execute_result"
    }
   ],
   "source": [
    "set(y)"
   ]
  },
  {
   "cell_type": "markdown",
   "metadata": {},
   "source": [
    "### Vectorization and Modeling"
   ]
  },
  {
   "cell_type": "code",
   "execution_count": 97,
   "metadata": {
    "execution": {
     "iopub.execute_input": "2025-03-06T06:52:04.559618Z",
     "iopub.status.busy": "2025-03-06T06:52:04.559202Z",
     "iopub.status.idle": "2025-03-06T06:52:04.565904Z",
     "shell.execute_reply": "2025-03-06T06:52:04.564262Z",
     "shell.execute_reply.started": "2025-03-06T06:52:04.559581Z"
    },
    "trusted": true
   },
   "outputs": [],
   "source": [
    "from sklearn.pipeline import Pipeline\n",
    "from sklearn.feature_extraction.text import CountVectorizer, TfidfVectorizer, TfidfTransformer\n",
    "from sklearn.linear_model import LogisticRegression\n",
    "from sklearn.ensemble import RandomForestClassifier\n",
    "from sklearn.svm import SVC\n",
    "from sklearn.naive_bayes import MultinomialNB\n",
    "from sklearn.metrics import accuracy_score,confusion_matrix,classification_report\n",
    "from sklearn.tree import DecisionTreeClassifier, plot_tree\n"
   ]
  },
  {
   "cell_type": "code",
   "execution_count": 98,
   "metadata": {
    "execution": {
     "iopub.execute_input": "2025-03-06T06:52:04.796445Z",
     "iopub.status.busy": "2025-03-06T06:52:04.796058Z",
     "iopub.status.idle": "2025-03-06T06:52:04.801736Z",
     "shell.execute_reply": "2025-03-06T06:52:04.800298Z",
     "shell.execute_reply.started": "2025-03-06T06:52:04.796414Z"
    },
    "trusted": true
   },
   "outputs": [],
   "source": [
    "import mlflow\n",
    "from mlflow.models import infer_signature\n",
    "import mlflow.sklearn\n",
    "from urllib.parse import urlparse\n"
   ]
  },
  {
   "cell_type": "code",
   "execution_count": 99,
   "metadata": {
    "execution": {
     "iopub.execute_input": "2025-03-06T06:52:09.271485Z",
     "iopub.status.busy": "2025-03-06T06:52:09.271059Z",
     "iopub.status.idle": "2025-03-06T06:52:09.760794Z",
     "shell.execute_reply": "2025-03-06T06:52:09.759560Z",
     "shell.execute_reply.started": "2025-03-06T06:52:09.271452Z"
    },
    "trusted": true
   },
   "outputs": [
    {
     "data": {
      "text/plain": [
       "<Experiment: artifact_location='/home/muhammed/Desktop/Amazon product review/artifacts/1', creation_time=1741196389486, experiment_id='1', last_update_time=1741196389486, lifecycle_stage='active', name='Amazon Product Review Sentimant Experiement', tags={}>"
      ]
     },
     "execution_count": 99,
     "metadata": {},
     "output_type": "execute_result"
    }
   ],
   "source": [
    "mlflow.set_tracking_uri(\"https://ef55-150-129-100-21.ngrok-free.app\")\n",
    "mlflow.set_experiment(\"Amazon Product Review Sentimant Experiement\")\n"
   ]
  },
  {
   "cell_type": "code",
   "execution_count": 57,
   "metadata": {
    "execution": {
     "iopub.execute_input": "2025-03-06T06:25:47.753970Z",
     "iopub.status.busy": "2025-03-06T06:25:47.753634Z",
     "iopub.status.idle": "2025-03-06T06:25:47.766808Z",
     "shell.execute_reply": "2025-03-06T06:25:47.765602Z",
     "shell.execute_reply.started": "2025-03-06T06:25:47.753933Z"
    },
    "trusted": true
   },
   "outputs": [],
   "source": [
    "# Split the data set into two part for training and testing \n",
    "x_train, x_test, y_train, y_test = train_test_split(X,y,random_state = 42,test_size = 0.20)\n"
   ]
  },
  {
   "cell_type": "code",
   "execution_count": 100,
   "metadata": {
    "execution": {
     "iopub.execute_input": "2025-03-06T06:52:13.910798Z",
     "iopub.status.busy": "2025-03-06T06:52:13.910421Z",
     "iopub.status.idle": "2025-03-06T06:52:14.115816Z",
     "shell.execute_reply": "2025-03-06T06:52:14.114275Z",
     "shell.execute_reply.started": "2025-03-06T06:52:13.910765Z"
    },
    "trusted": true
   },
   "outputs": [
    {
     "name": "stderr",
     "output_type": "stream",
     "text": [
      "/usr/local/lib/python3.10/dist-packages/mlflow/types/utils.py:452: UserWarning: Hint: Inferred schema contains integer column(s). Integer columns in Python cannot represent missing values. If your input data contains missing values at inference time, it will be encoded as floats and will cause a schema enforcement error. The best way to avoid this problem is to infer the model schema based on a realistic data sample (training dataset) that includes missing values. Alternatively, you can declare integer columns as doubles (float64) whenever these columns may have missing values. See `Handling Integers With Missing Values <https://www.mlflow.org/docs/latest/models.html#handling-integers-with-missing-values>`_ for more details.\n",
      "  warnings.warn(\n"
     ]
    }
   ],
   "source": [
    "signature=infer_signature(x_train,y_train)\n"
   ]
  },
  {
   "cell_type": "markdown",
   "metadata": {},
   "source": [
    "### 1. Logistic Regression"
   ]
  },
  {
   "cell_type": "code",
   "execution_count": 189,
   "metadata": {
    "execution": {
     "iopub.execute_input": "2025-03-05T17:43:07.105830Z",
     "iopub.status.busy": "2025-03-05T17:43:07.105445Z",
     "iopub.status.idle": "2025-03-05T17:43:09.506885Z",
     "shell.execute_reply": "2025-03-05T17:43:09.505826Z",
     "shell.execute_reply.started": "2025-03-05T17:43:07.105800Z"
    },
    "trusted": true
   },
   "outputs": [
    {
     "name": "stdout",
     "output_type": "stream",
     "text": [
      "🏃 View run luminous-goose-271 at: https://0fdd-150-129-100-21.ngrok-free.app/#/experiments/1/runs/85ef4729d88a4786b104fae982721837\n",
      "🧪 View experiment at: https://0fdd-150-129-100-21.ngrok-free.app/#/experiments/1\n"
     ]
    }
   ],
   "source": [
    "\n",
    "with mlflow.start_run():\n",
    "    mlflow.log_metric('test',1)\n",
    "    mlflow.log_metric('nihas',2)"
   ]
  },
  {
   "cell_type": "code",
   "execution_count": 116,
   "metadata": {
    "execution": {
     "iopub.execute_input": "2025-03-06T07:07:39.567160Z",
     "iopub.status.busy": "2025-03-06T07:07:39.566771Z",
     "iopub.status.idle": "2025-03-06T07:07:39.572443Z",
     "shell.execute_reply": "2025-03-06T07:07:39.571188Z",
     "shell.execute_reply.started": "2025-03-06T07:07:39.567124Z"
    },
    "trusted": true
   },
   "outputs": [],
   "source": [
    "logistic_pipe=Pipeline(\n",
    "    [\n",
    "      ('vec',CountVectorizer(stop_words= \"english\")),\n",
    "        ('Tf_idf',TfidfTransformer()),\n",
    "        ('log_rg',LogisticRegression()),\n",
    "\n",
    "    ]\n",
    ")"
   ]
  },
  {
   "cell_type": "code",
   "execution_count": 60,
   "metadata": {
    "execution": {
     "iopub.execute_input": "2025-03-06T06:26:32.868013Z",
     "iopub.status.busy": "2025-03-06T06:26:32.867611Z",
     "iopub.status.idle": "2025-03-06T06:26:39.201849Z",
     "shell.execute_reply": "2025-03-06T06:26:39.200627Z",
     "shell.execute_reply.started": "2025-03-06T06:26:32.867979Z"
    },
    "trusted": true
   },
   "outputs": [
    {
     "name": "stderr",
     "output_type": "stream",
     "text": [
      "/usr/local/lib/python3.10/dist-packages/sklearn/linear_model/_logistic.py:458: ConvergenceWarning: lbfgs failed to converge (status=1):\n",
      "STOP: TOTAL NO. of ITERATIONS REACHED LIMIT.\n",
      "\n",
      "Increase the number of iterations (max_iter) or scale the data as shown in:\n",
      "    https://scikit-learn.org/stable/modules/preprocessing.html\n",
      "Please also refer to the documentation for alternative solver options:\n",
      "    https://scikit-learn.org/stable/modules/linear_model.html#logistic-regression\n",
      "  n_iter_i = _check_optimize_result(\n"
     ]
    }
   ],
   "source": [
    "log_fit = logistic_pipe.fit(x_train,y_train)\n"
   ]
  },
  {
   "cell_type": "code",
   "execution_count": 61,
   "metadata": {
    "execution": {
     "iopub.execute_input": "2025-03-06T06:26:39.203398Z",
     "iopub.status.busy": "2025-03-06T06:26:39.203099Z",
     "iopub.status.idle": "2025-03-06T06:26:39.762174Z",
     "shell.execute_reply": "2025-03-06T06:26:39.761067Z",
     "shell.execute_reply.started": "2025-03-06T06:26:39.203372Z"
    },
    "trusted": true
   },
   "outputs": [],
   "source": [
    "log_pred=logistic_pipe.predict(x_test)\n"
   ]
  },
  {
   "cell_type": "code",
   "execution_count": 62,
   "metadata": {
    "execution": {
     "iopub.execute_input": "2025-03-06T06:26:39.763967Z",
     "iopub.status.busy": "2025-03-06T06:26:39.763613Z",
     "iopub.status.idle": "2025-03-06T06:26:42.444672Z",
     "shell.execute_reply": "2025-03-06T06:26:42.443495Z",
     "shell.execute_reply.started": "2025-03-06T06:26:39.763925Z"
    },
    "trusted": true
   },
   "outputs": [
    {
     "name": "stdout",
     "output_type": "stream",
     "text": [
      "Training accuracy: 0.7612240829346093\n",
      "Test accuracy: 0.6759968102073365\n"
     ]
    }
   ],
   "source": [
    "print('Training accuracy:', log_fit.score(x_train,y_train))\n",
    "print('Test accuracy:', log_fit.score(x_test,y_test))\n"
   ]
  },
  {
   "cell_type": "code",
   "execution_count": 175,
   "metadata": {
    "execution": {
     "iopub.execute_input": "2025-03-05T16:25:50.828723Z",
     "iopub.status.busy": "2025-03-05T16:25:50.828389Z",
     "iopub.status.idle": "2025-03-05T16:25:51.183825Z",
     "shell.execute_reply": "2025-03-05T16:25:51.182703Z",
     "shell.execute_reply.started": "2025-03-05T16:25:50.828694Z"
    },
    "trusted": true
   },
   "outputs": [
    {
     "data": {
      "text/plain": [
       "<Axes: >"
      ]
     },
     "execution_count": 175,
     "metadata": {},
     "output_type": "execute_result"
    },
    {
     "data": {
      "image/png": "[encoded data removed]",
      "text/plain": [
       "<Figure size 640x480 with 2 Axes>"
      ]
     },
     "metadata": {},
     "output_type": "display_data"
    }
   ],
   "source": [
    "sns.heatmap(confusion_matrix(y_test,log_pred), annot=True, fmt=\"d\")\n"
   ]
  },
  {
   "cell_type": "code",
   "execution_count": 176,
   "metadata": {
    "execution": {
     "iopub.execute_input": "2025-03-05T16:26:09.381179Z",
     "iopub.status.busy": "2025-03-05T16:26:09.380837Z",
     "iopub.status.idle": "2025-03-05T16:26:09.413392Z",
     "shell.execute_reply": "2025-03-05T16:26:09.412404Z",
     "shell.execute_reply.started": "2025-03-05T16:26:09.381132Z"
    },
    "trusted": true
   },
   "outputs": [
    {
     "name": "stdout",
     "output_type": "stream",
     "text": [
      "              precision    recall  f1-score   support\n",
      "\n",
      "           0     0.6878    0.6960    0.6919      4191\n",
      "           1     0.5866    0.5697    0.5780      4125\n",
      "           2     0.7477    0.7599    0.7538      4224\n",
      "\n",
      "    accuracy                         0.6760     12540\n",
      "   macro avg     0.6741    0.6752    0.6746     12540\n",
      "weighted avg     0.6747    0.6760    0.6753     12540\n",
      "\n"
     ]
    }
   ],
   "source": [
    "print(classification_report(y_test, log_pred,digits=4))\n"
   ]
  },
  {
   "cell_type": "markdown",
   "metadata": {},
   "source": [
    "### Observation\n",
    "* Low False Negatives (FN = 321) → The model is not heavily misclassifying actual positives as negatives.\n",
    "* This suggests that recall for the positive class is relatively high, meaning most positive reviews are correctly classified."
   ]
  },
  {
   "cell_type": "code",
   "execution_count": 117,
   "metadata": {
    "execution": {
     "iopub.execute_input": "2025-03-06T07:07:49.275965Z",
     "iopub.status.busy": "2025-03-06T07:07:49.275543Z",
     "iopub.status.idle": "2025-03-06T07:08:16.842206Z",
     "shell.execute_reply": "2025-03-06T07:08:16.840907Z",
     "shell.execute_reply.started": "2025-03-06T07:07:49.275926Z"
    },
    "trusted": true
   },
   "outputs": [
    {
     "name": "stderr",
     "output_type": "stream",
     "text": [
      "/usr/local/lib/python3.10/dist-packages/sklearn/linear_model/_logistic.py:458: ConvergenceWarning: lbfgs failed to converge (status=1):\n",
      "STOP: TOTAL NO. of ITERATIONS REACHED LIMIT.\n",
      "\n",
      "Increase the number of iterations (max_iter) or scale the data as shown in:\n",
      "    https://scikit-learn.org/stable/modules/preprocessing.html\n",
      "Please also refer to the documentation for alternative solver options:\n",
      "    https://scikit-learn.org/stable/modules/linear_model.html#logistic-regression\n",
      "  n_iter_i = _check_optimize_result(\n",
      "\u001b[31m2025/03/06 07:08:11 WARNING mlflow.models.model: Model logged without a signature and input example. Please set `input_example` parameter when logging the model to auto infer the model signature.\u001b[0m\n",
      "Registered model 'Logistic Regression Model' already exists. Creating a new version of this model...\n",
      "2025/03/06 07:08:13 INFO mlflow.store.model_registry.abstract_store: Waiting up to 300 seconds for model version to finish creation. Model name: Logistic Regression Model, version 4\n",
      "Created version '4' of model 'Logistic Regression Model'.\n"
     ]
    },
    {
     "name": "stdout",
     "output_type": "stream",
     "text": [
      "Training accuracy: 0.7612240829346093\n",
      "Test accuracy: 0.6759968102073365\n",
      "              precision    recall  f1-score   support\n",
      "\n",
      "           0     0.6878    0.6960    0.6919      4191\n",
      "           1     0.5866    0.5697    0.5780      4125\n",
      "           2     0.7477    0.7599    0.7538      4224\n",
      "\n",
      "    accuracy                         0.6760     12540\n",
      "   macro avg     0.6741    0.6752    0.6746     12540\n",
      "weighted avg     0.6747    0.6760    0.6753     12540\n",
      "\n",
      "🏃 View run Logistic_Regression_Exp1 at: https://ef55-150-129-100-21.ngrok-free.app/#/experiments/1/runs/770510b5236f4415b5065a69f36afae5\n",
      "🧪 View experiment at: https://ef55-150-129-100-21.ngrok-free.app/#/experiments/1\n"
     ]
    }
   ],
   "source": [
    "with mlflow.start_run(run_name=\"Logistic_Regression_Exp1\"):\n",
    "    log_fit = logistic_pipe.fit(x_train, y_train)\n",
    "    y_pred = log_fit.predict(x_test)\n",
    "    \n",
    "    # Log training and test accuracy\n",
    "    mlflow.log_metric(\"train_accuracy\", log_fit.score(x_train, y_train))\n",
    "    mlflow.log_metric(\"test_accuracy\", log_fit.score(x_test, y_test))\n",
    "\n",
    "    # Log classification report\n",
    "    class_report = classification_report(y_test, y_pred, digits=4, output_dict=True)\n",
    "    for label, metrics in class_report.items():\n",
    "        if isinstance(metrics, dict):\n",
    "            for metric_name, metric_value in metrics.items():\n",
    "                mlflow.log_metric(f\"{label}_{metric_name}\", metric_value)\n",
    "\n",
    "    # Log the model\n",
    "    input_example = x_train.iloc[:5]\n",
    "    tracking_url_type_store = urlparse(mlflow.get_tracking_uri()).scheme\n",
    "\n",
    "    if tracking_url_type_store != 'file':\n",
    "        mlflow.sklearn.log_model(log_fit, \"model\", registered_model_name=\"Logistic Regression Model\")\n",
    "    else:\n",
    "        mlflow.sklearn.log_model(log_fit, \"model\", input_example=input_example)\n",
    "    \n",
    "    print('Training accuracy:', log_fit.score(x_train, y_train))\n",
    "    print('Test accuracy:', log_fit.score(x_test, y_test))\n",
    "    print(classification_report(y_test, y_pred, digits=4))"
   ]
  },
  {
   "cell_type": "markdown",
   "metadata": {},
   "source": [
    "### 2. Decision Tree"
   ]
  },
  {
   "cell_type": "code",
   "execution_count": 119,
   "metadata": {
    "execution": {
     "iopub.execute_input": "2025-03-06T07:11:09.290044Z",
     "iopub.status.busy": "2025-03-06T07:11:09.289596Z",
     "iopub.status.idle": "2025-03-06T07:11:09.295670Z",
     "shell.execute_reply": "2025-03-06T07:11:09.294437Z",
     "shell.execute_reply.started": "2025-03-06T07:11:09.289994Z"
    },
    "trusted": true
   },
   "outputs": [],
   "source": [
    "\n",
    "dt_model_pipeline = Pipeline([\n",
    "    ('vec', CountVectorizer(stop_words='english')),\n",
    "    ('tfidf', TfidfTransformer()),\n",
    "    ('classifier', DecisionTreeClassifier())])\n",
    "\n"
   ]
  },
  {
   "cell_type": "code",
   "execution_count": 120,
   "metadata": {
    "execution": {
     "iopub.execute_input": "2025-03-06T07:11:09.297541Z",
     "iopub.status.busy": "2025-03-06T07:11:09.297163Z",
     "iopub.status.idle": "2025-03-06T07:12:29.871801Z",
     "shell.execute_reply": "2025-03-06T07:12:29.870468Z",
     "shell.execute_reply.started": "2025-03-06T07:11:09.297502Z"
    },
    "trusted": true
   },
   "outputs": [
    {
     "name": "stderr",
     "output_type": "stream",
     "text": [
      "/usr/local/lib/python3.10/dist-packages/mlflow/types/utils.py:452: UserWarning: Hint: Inferred schema contains integer column(s). Integer columns in Python cannot represent missing values. If your input data contains missing values at inference time, it will be encoded as floats and will cause a schema enforcement error. The best way to avoid this problem is to infer the model schema based on a realistic data sample (training dataset) that includes missing values. Alternatively, you can declare integer columns as doubles (float64) whenever these columns may have missing values. See `Handling Integers With Missing Values <https://www.mlflow.org/docs/latest/models.html#handling-integers-with-missing-values>`_ for more details.\n",
      "  warnings.warn(\n"
     ]
    },
    {
     "name": "stdout",
     "output_type": "stream",
     "text": [
      "Training accuracy: 0.9998803827751196\n",
      "Test accuracy: 0.5013556618819777\n",
      "              precision    recall  f1-score   support\n",
      "\n",
      "           0     0.5138    0.5018    0.5077      4191\n",
      "           1     0.4253    0.4368    0.4310      4125\n",
      "           2     0.5658    0.5639    0.5649      4224\n",
      "\n",
      "    accuracy                         0.5014     12540\n",
      "   macro avg     0.5016    0.5009    0.5012     12540\n",
      "weighted avg     0.5022    0.5014    0.5017     12540\n",
      "\n",
      "🏃 View run Decision Tree Classifier at: https://ef55-150-129-100-21.ngrok-free.app/#/experiments/1/runs/2eaf484ffe5144f38a225c819b19f892\n",
      "🧪 View experiment at: https://ef55-150-129-100-21.ngrok-free.app/#/experiments/1\n"
     ]
    }
   ],
   "source": [
    "with mlflow.start_run(run_name=\"Decision Tree Classifier\"):\n",
    "    dt_model = dt_model_pipeline.fit(x_train, y_train)\n",
    "    y_pred_dt = dt_model_pipeline.predict(x_test)\n",
    "    \n",
    "    # Log training and test accuracy\n",
    "    mlflow.log_metric(\"train_accuracy\", dt_model_pipeline.score(x_train, y_train))\n",
    "    mlflow.log_metric(\"test_accuracy\", dt_model_pipeline.score(x_test, y_test))\n",
    "\n",
    "    # Log classification report\n",
    "    class_report = classification_report(y_test, y_pred_dt, digits=4, output_dict=True)\n",
    "    for label, metrics in class_report.items():\n",
    "        if isinstance(metrics, dict):\n",
    "            for metric_name, metric_value in metrics.items():\n",
    "                mlflow.log_metric(f\"{label}_{metric_name}\", metric_value)\n",
    "\n",
    "    # Log the model\n",
    "    input_example = pd.DataFrame(x_train.iloc[:5])\n",
    "    tracking_url_type_store = urlparse(mlflow.get_tracking_uri()).scheme\n",
    "\n",
    "\n",
    "    mlflow.sklearn.log_model(dt_model, \"model\", input_example=input_example)\n",
    "    \n",
    "    print('Training accuracy:', dt_model_pipeline.score(x_train, y_train))\n",
    "    print('Test accuracy:', dt_model_pipeline.score(x_test, y_test))\n",
    "    print(classification_report(y_test, y_pred_dt, digits=4))"
   ]
  },
  {
   "cell_type": "markdown",
   "metadata": {},
   "source": [
    "#### Here We can see Training accuracy is 99% and testing accuracy is 50% , so this model is overfited"
   ]
  },
  {
   "cell_type": "markdown",
   "metadata": {},
   "source": [
    "## Random Forest Classifier"
   ]
  },
  {
   "cell_type": "code",
   "execution_count": 121,
   "metadata": {
    "execution": {
     "iopub.execute_input": "2025-03-06T07:14:59.077761Z",
     "iopub.status.busy": "2025-03-06T07:14:59.077327Z",
     "iopub.status.idle": "2025-03-06T07:14:59.083433Z",
     "shell.execute_reply": "2025-03-06T07:14:59.081879Z",
     "shell.execute_reply.started": "2025-03-06T07:14:59.077729Z"
    },
    "trusted": true
   },
   "outputs": [],
   "source": [
    "rf_pipeline = Pipeline([\n",
    "    ('vec', CountVectorizer(stop_words='english')),\n",
    "    ('tfidf', TfidfTransformer()),\n",
    "    ('classifier', RandomForestClassifier(n_estimators=100, random_state=42))\n",
    "])"
   ]
  },
  {
   "cell_type": "code",
   "execution_count": 122,
   "metadata": {
    "execution": {
     "iopub.execute_input": "2025-03-06T07:16:28.160222Z",
     "iopub.status.busy": "2025-03-06T07:16:28.159827Z",
     "iopub.status.idle": "2025-03-06T07:20:39.246411Z",
     "shell.execute_reply": "2025-03-06T07:20:39.245195Z",
     "shell.execute_reply.started": "2025-03-06T07:16:28.160166Z"
    },
    "trusted": true
   },
   "outputs": [
    {
     "name": "stderr",
     "output_type": "stream",
     "text": [
      "/usr/local/lib/python3.10/dist-packages/mlflow/types/utils.py:452: UserWarning: Hint: Inferred schema contains integer column(s). Integer columns in Python cannot represent missing values. If your input data contains missing values at inference time, it will be encoded as floats and will cause a schema enforcement error. The best way to avoid this problem is to infer the model schema based on a realistic data sample (training dataset) that includes missing values. Alternatively, you can declare integer columns as doubles (float64) whenever these columns may have missing values. See `Handling Integers With Missing Values <https://www.mlflow.org/docs/latest/models.html#handling-integers-with-missing-values>`_ for more details.\n",
      "  warnings.warn(\n"
     ]
    },
    {
     "name": "stdout",
     "output_type": "stream",
     "text": [
      "Training Accuracy: 0.9998803827751196\n",
      "Test Accuracy: 0.6474481658692185\n",
      "              precision    recall  f1-score   support\n",
      "\n",
      "           0     0.6574    0.6767    0.6669      4191\n",
      "           1     0.5669    0.5338    0.5499      4125\n",
      "           2     0.7096    0.7294    0.7194      4224\n",
      "\n",
      "    accuracy                         0.6474     12540\n",
      "   macro avg     0.6446    0.6466    0.6454     12540\n",
      "weighted avg     0.6452    0.6474    0.6461     12540\n",
      "\n",
      "🏃 View run RandomForest_SentimentAnalysis at: https://ef55-150-129-100-21.ngrok-free.app/#/experiments/1/runs/31c83bd1373c4dc6b9745e1caca9f784\n",
      "🧪 View experiment at: https://ef55-150-129-100-21.ngrok-free.app/#/experiments/1\n"
     ]
    }
   ],
   "source": [
    "\n",
    "with mlflow.start_run(run_name=\"RandomForest_SentimentAnalysis\"):\n",
    "\n",
    "    # Train the model\n",
    "    rf_fit = rf_pipeline.fit(x_train, y_train)\n",
    "    \n",
    "    # Predictions\n",
    "    y_pred = rf_fit.predict(x_test)\n",
    "\n",
    "    # Log accuracy\n",
    "    train_acc = rf_fit.score(x_train, y_train)\n",
    "    test_acc = accuracy_score(y_test, y_pred)\n",
    "    mlflow.log_metric(\"train_accuracy\", train_acc)\n",
    "    mlflow.log_metric(\"test_accuracy\", test_acc)\n",
    "\n",
    "    # Log classification report\n",
    "    class_report = classification_report(y_test, y_pred, digits=4, output_dict=True)\n",
    "    for label, metrics in class_report.items():\n",
    "        if isinstance(metrics, dict):\n",
    "            for metric_name, metric_value in metrics.items():\n",
    "                mlflow.log_metric(f\"{label}_{metric_name}\", metric_value)\n",
    "\n",
    "    # Log model\n",
    "    input_example = pd.DataFrame(x_train.iloc[:5])  # Ensure it's a DataFrame\n",
    "    mlflow.sklearn.log_model(rf_fit, \"model\", input_example=input_example)\n",
    "\n",
    "    # Print results\n",
    "    print(f\"Training Accuracy: {train_acc}\")\n",
    "    print(f\"Test Accuracy: {test_acc}\")\n",
    "    print(classification_report(y_test, y_pred, digits=4))\n"
   ]
  },
  {
   "cell_type": "markdown",
   "metadata": {},
   "source": [
    "#### Here We can see Training accuracy is 99% and testing accuracy is 64% , so this model is overfited"
   ]
  },
  {
   "cell_type": "code",
   "execution_count": null,
   "metadata": {
    "trusted": true
   },
   "outputs": [],
   "source": []
  }
 ],
 "metadata": {
  "kaggle": {
   "accelerator": "none",
   "dataSources": [
    {
     "datasetId": 1461623,
     "sourceId": 2415872,
     "sourceType": "datasetVersion"
    }
   ],
   "dockerImageVersionId": 30918,
   "isGpuEnabled": false,
   "isInternetEnabled": true,
   "language": "python",
   "sourceType": "notebook"
  },
  "kernelspec": {
   "display_name": "Python 3",
   "language": "python",
   "name": "python3"
  },
  "language_info": {
   "codemirror_mode": {
    "name": "ipython",
    "version": 3
   },
   "file_extension": ".py",
   "mimetype": "text/x-python",
   "name": "python",
   "nbconvert_exporter": "python",
   "pygments_lexer": "ipython3",
   "version": "3.10.12"
  }
 },
 "nbformat": 4,
 "nbformat_minor": 4
}
